{
 "cells": [
  {
   "cell_type": "markdown",
   "metadata": {},
   "source": [
    "# Using Tensorflow V 2.0 to classify Fashion mnist"
   ]
  },
  {
   "cell_type": "raw",
   "metadata": {},
   "source": [
    "Install de dataset"
   ]
  },
  {
   "cell_type": "code",
   "execution_count": 3,
   "metadata": {},
   "outputs": [
    {
     "name": "stdout",
     "output_type": "stream",
     "text": [
      "Collecting tensorflow_datasets\n",
      "  Using cached https://files.pythonhosted.org/packages/d9/b8/457ad44e8748fbe5021b4ca7e7d589b5852881bbb11bca4d947952a13558/tensorflow_datasets-1.0.1-py3-none-any.whl\n",
      "Requirement already satisfied, skipping upgrade: absl-py in c:\\users\\edwvi\\anaconda3\\envs\\tf2_cpu\\lib\\site-packages (from tensorflow_datasets) (0.7.1)\n",
      "Requirement already satisfied, skipping upgrade: termcolor in c:\\users\\edwvi\\anaconda3\\envs\\tf2_cpu\\lib\\site-packages (from tensorflow_datasets) (1.1.0)\n",
      "Collecting requests (from tensorflow_datasets)\n",
      "  Using cached https://files.pythonhosted.org/packages/7d/e3/20f3d364d6c8e5d2353c72a67778eb189176f08e873c9900e10c0287b84b/requests-2.21.0-py2.py3-none-any.whl\n",
      "Collecting future (from tensorflow_datasets)\n",
      "Collecting promise (from tensorflow_datasets)\n",
      "Collecting tensorflow-metadata (from tensorflow_datasets)\n",
      "  Using cached https://files.pythonhosted.org/packages/08/b7/3fc74574aa9aff44491cce996711dd6094653c20d9e2800be4efb054e0da/tensorflow_metadata-0.13.0-py3-none-any.whl\n",
      "Collecting tqdm (from tensorflow_datasets)\n",
      "  Using cached https://files.pythonhosted.org/packages/6c/4b/c38b5144cf167c4f52288517436ccafefe9dc01b8d1c190e18a6b154cd4a/tqdm-4.31.1-py2.py3-none-any.whl\n",
      "Collecting wrapt (from tensorflow_datasets)\n",
      "Requirement already satisfied, skipping upgrade: protobuf>=3.6.1 in c:\\users\\edwvi\\anaconda3\\envs\\tf2_cpu\\lib\\site-packages (from tensorflow_datasets) (3.7.1)\n",
      "Requirement already satisfied, skipping upgrade: six in c:\\users\\edwvi\\anaconda3\\envs\\tf2_cpu\\lib\\site-packages (from tensorflow_datasets) (1.12.0)\n",
      "Collecting chardet<3.1.0,>=3.0.2 (from requests->tensorflow_datasets)\n",
      "  Using cached https://files.pythonhosted.org/packages/bc/a9/01ffebfb562e4274b6487b4bb1ddec7ca55ec7510b22e4c51f14098443b8/chardet-3.0.4-py2.py3-none-any.whl\n",
      "Requirement already satisfied, skipping upgrade: certifi>=2017.4.17 in c:\\users\\edwvi\\anaconda3\\envs\\tf2_cpu\\lib\\site-packages (from requests->tensorflow_datasets) (2019.3.9)\n",
      "Collecting idna<2.9,>=2.5 (from requests->tensorflow_datasets)\n",
      "  Using cached https://files.pythonhosted.org/packages/14/2c/cd551d81dbe15200be1cf41cd03869a46fe7226e7450af7a6545bfc474c9/idna-2.8-py2.py3-none-any.whl\n",
      "Collecting urllib3<1.25,>=1.21.1 (from requests->tensorflow_datasets)\n",
      "  Using cached https://files.pythonhosted.org/packages/62/00/ee1d7de624db8ba7090d1226aebefab96a2c71cd5cfa7629d6ad3f61b79e/urllib3-1.24.1-py2.py3-none-any.whl\n",
      "Collecting googleapis-common-protos (from tensorflow-metadata->tensorflow_datasets)\n",
      "Requirement already satisfied, skipping upgrade: setuptools in c:\\users\\edwvi\\anaconda3\\envs\\tf2_cpu\\lib\\site-packages (from protobuf>=3.6.1->tensorflow_datasets) (40.8.0)\n",
      "Installing collected packages: chardet, idna, urllib3, requests, future, promise, googleapis-common-protos, tensorflow-metadata, tqdm, wrapt, tensorflow-datasets\n",
      "Successfully installed chardet-3.0.4 future-0.17.1 googleapis-common-protos-1.5.9 idna-2.8 promise-2.2.1 requests-2.21.0 tensorflow-datasets-1.0.1 tensorflow-metadata-0.13.0 tqdm-4.31.1 urllib3-1.24.1 wrapt-1.11.1\n",
      "Note: you may need to restart the kernel to use updated packages.\n"
     ]
    }
   ],
   "source": [
    "pip install -U tensorflow_datasets"
   ]
  },
  {
   "cell_type": "code",
   "execution_count": 40,
   "metadata": {},
   "outputs": [],
   "source": [
    "from __future__ import absolute_import, division, print_function"
   ]
  },
  {
   "cell_type": "raw",
   "metadata": {},
   "source": [
    "Import TensorFlow and TensorFlow Datasets"
   ]
  },
  {
   "cell_type": "code",
   "execution_count": 41,
   "metadata": {},
   "outputs": [],
   "source": [
    "\n",
    "import tensorflow as tf\n",
    "import tensorflow_datasets as tfds\n",
    "#tf.logging.set_verbosity(tf.logging.ERROR)"
   ]
  },
  {
   "cell_type": "code",
   "execution_count": 43,
   "metadata": {},
   "outputs": [],
   "source": [
    "#tf.logging.set_verbosity(tf.logging.ERROR)\n"
   ]
  },
  {
   "cell_type": "code",
   "execution_count": 44,
   "metadata": {},
   "outputs": [],
   "source": [
    "#dir(tf)"
   ]
  },
  {
   "cell_type": "code",
   "execution_count": 10,
   "metadata": {},
   "outputs": [],
   "source": [
    "#!pip install matplotlib"
   ]
  },
  {
   "cell_type": "code",
   "execution_count": 7,
   "metadata": {},
   "outputs": [],
   "source": [
    "import math\n",
    "import numpy as np\n",
    "import matplotlib.pyplot as plt\n",
    "import tqdm\n",
    "import tqdm.auto\n",
    "tqdm.tqdm = tqdm.auto.tqdm"
   ]
  },
  {
   "cell_type": "code",
   "execution_count": 8,
   "metadata": {},
   "outputs": [
    {
     "name": "stdout",
     "output_type": "stream",
     "text": [
      "2.0.0-alpha0\n"
     ]
    }
   ],
   "source": [
    "print(tf.__version__)"
   ]
  },
  {
   "cell_type": "markdown",
   "metadata": {},
   "source": [
    "# Import Fashion MNIST dataset"
   ]
  },
  {
   "cell_type": "code",
   "execution_count": 11,
   "metadata": {},
   "outputs": [
    {
     "name": "stdout",
     "output_type": "stream",
     "text": [
      "Downloading / extracting dataset fashion_mnist (29.45 MiB) to C:\\Users\\edwvi\\tensorflow_datasets\\fashion_mnist\\1.0.0...\n"
     ]
    },
    {
     "data": {
      "application/vnd.jupyter.widget-view+json": {
       "model_id": "796bd436413542dc9ff5d889952db2ee",
       "version_major": 2,
       "version_minor": 0
      },
      "text/plain": [
       "HBox(children=(IntProgress(value=1, bar_style='info', description='Dl Completed...', max=1, style=ProgressStyl…"
      ]
     },
     "metadata": {},
     "output_type": "display_data"
    },
    {
     "data": {
      "application/vnd.jupyter.widget-view+json": {
       "model_id": "bd90e37d75f2499081074e5eaf3578ac",
       "version_major": 2,
       "version_minor": 0
      },
      "text/plain": [
       "HBox(children=(IntProgress(value=1, bar_style='info', description='Dl Size...', max=1, style=ProgressStyle(des…"
      ]
     },
     "metadata": {},
     "output_type": "display_data"
    },
    {
     "data": {
      "application/vnd.jupyter.widget-view+json": {
       "model_id": "4df80a939cb646ecb2d4669b99b62db9",
       "version_major": 2,
       "version_minor": 0
      },
      "text/plain": [
       "HBox(children=(IntProgress(value=1, bar_style='info', description='Extraction completed...', max=1, style=Prog…"
      ]
     },
     "metadata": {},
     "output_type": "display_data"
    },
    {
     "name": "stdout",
     "output_type": "stream",
     "text": [
      "\n",
      "\n",
      "\n",
      "\n"
     ]
    },
    {
     "data": {
      "application/vnd.jupyter.widget-view+json": {
       "model_id": "a9d54daaffd64d14ad3337770ef581c9",
       "version_major": 2,
       "version_minor": 0
      },
      "text/plain": [
       "HBox(children=(IntProgress(value=1, bar_style='info', max=1), HTML(value='')))"
      ]
     },
     "metadata": {},
     "output_type": "display_data"
    },
    {
     "name": "stdout",
     "output_type": "stream",
     "text": [
      "\n"
     ]
    },
    {
     "data": {
      "application/vnd.jupyter.widget-view+json": {
       "model_id": "861b5ea934864a6283678e613815fefc",
       "version_major": 2,
       "version_minor": 0
      },
      "text/plain": [
       "HBox(children=(IntProgress(value=0, description='Shuffling...', max=10, style=ProgressStyle(description_width=…"
      ]
     },
     "metadata": {},
     "output_type": "display_data"
    },
    {
     "name": "stderr",
     "output_type": "stream",
     "text": [
      "WARNING: Logging before flag parsing goes to stderr.\n",
      "W0330 06:52:08.417009 477080 deprecation.py:323] From C:\\Users\\edwvi\\Anaconda3\\envs\\tf2_cpu\\lib\\site-packages\\tensorflow_datasets\\core\\file_format_adapter.py:249: tf_record_iterator (from tensorflow.python.lib.io.tf_record) is deprecated and will be removed in a future version.\n",
      "Instructions for updating:\n",
      "Use eager execution and: \n",
      "`tf.data.TFRecordDataset(path)`\n"
     ]
    },
    {
     "data": {
      "application/vnd.jupyter.widget-view+json": {
       "model_id": "9e4a86d559ac4bbbad7986ca00ad7087",
       "version_major": 2,
       "version_minor": 0
      },
      "text/plain": [
       "HBox(children=(IntProgress(value=1, bar_style='info', description='Reading...', max=1, style=ProgressStyle(des…"
      ]
     },
     "metadata": {},
     "output_type": "display_data"
    },
    {
     "data": {
      "application/vnd.jupyter.widget-view+json": {
       "model_id": "4dd5c062069b473b9822d77ddd8877f8",
       "version_major": 2,
       "version_minor": 0
      },
      "text/plain": [
       "HBox(children=(IntProgress(value=0, description='Writing...', max=6000, style=ProgressStyle(description_width=…"
      ]
     },
     "metadata": {},
     "output_type": "display_data"
    },
    {
     "data": {
      "application/vnd.jupyter.widget-view+json": {
       "model_id": "b87eff4cd87a4c7695b28b520f0d8c10",
       "version_major": 2,
       "version_minor": 0
      },
      "text/plain": [
       "HBox(children=(IntProgress(value=1, bar_style='info', description='Reading...', max=1, style=ProgressStyle(des…"
      ]
     },
     "metadata": {},
     "output_type": "display_data"
    },
    {
     "data": {
      "application/vnd.jupyter.widget-view+json": {
       "model_id": "61350770556e461d9a7c3300ddea4d9a",
       "version_major": 2,
       "version_minor": 0
      },
      "text/plain": [
       "HBox(children=(IntProgress(value=0, description='Writing...', max=6000, style=ProgressStyle(description_width=…"
      ]
     },
     "metadata": {},
     "output_type": "display_data"
    },
    {
     "data": {
      "application/vnd.jupyter.widget-view+json": {
       "model_id": "5cefa58acfc649e593f35d7038051f8b",
       "version_major": 2,
       "version_minor": 0
      },
      "text/plain": [
       "HBox(children=(IntProgress(value=1, bar_style='info', description='Reading...', max=1, style=ProgressStyle(des…"
      ]
     },
     "metadata": {},
     "output_type": "display_data"
    },
    {
     "data": {
      "application/vnd.jupyter.widget-view+json": {
       "model_id": "cd6ae8273e57415faff0e841d2f2f784",
       "version_major": 2,
       "version_minor": 0
      },
      "text/plain": [
       "HBox(children=(IntProgress(value=0, description='Writing...', max=6000, style=ProgressStyle(description_width=…"
      ]
     },
     "metadata": {},
     "output_type": "display_data"
    },
    {
     "data": {
      "application/vnd.jupyter.widget-view+json": {
       "model_id": "3268f743ba88499ba91d021242f8f2b2",
       "version_major": 2,
       "version_minor": 0
      },
      "text/plain": [
       "HBox(children=(IntProgress(value=1, bar_style='info', description='Reading...', max=1, style=ProgressStyle(des…"
      ]
     },
     "metadata": {},
     "output_type": "display_data"
    },
    {
     "data": {
      "application/vnd.jupyter.widget-view+json": {
       "model_id": "f5faad88fcdf49b89d4660a1c518e70c",
       "version_major": 2,
       "version_minor": 0
      },
      "text/plain": [
       "HBox(children=(IntProgress(value=0, description='Writing...', max=6000, style=ProgressStyle(description_width=…"
      ]
     },
     "metadata": {},
     "output_type": "display_data"
    },
    {
     "data": {
      "application/vnd.jupyter.widget-view+json": {
       "model_id": "8664021b78d144da85000df398690ba9",
       "version_major": 2,
       "version_minor": 0
      },
      "text/plain": [
       "HBox(children=(IntProgress(value=1, bar_style='info', description='Reading...', max=1, style=ProgressStyle(des…"
      ]
     },
     "metadata": {},
     "output_type": "display_data"
    },
    {
     "data": {
      "application/vnd.jupyter.widget-view+json": {
       "model_id": "f790d53b5128477283a6286f4c42a04e",
       "version_major": 2,
       "version_minor": 0
      },
      "text/plain": [
       "HBox(children=(IntProgress(value=0, description='Writing...', max=6000, style=ProgressStyle(description_width=…"
      ]
     },
     "metadata": {},
     "output_type": "display_data"
    },
    {
     "data": {
      "application/vnd.jupyter.widget-view+json": {
       "model_id": "4e541c853e9e495b9a2d6cff7c247cf2",
       "version_major": 2,
       "version_minor": 0
      },
      "text/plain": [
       "HBox(children=(IntProgress(value=1, bar_style='info', description='Reading...', max=1, style=ProgressStyle(des…"
      ]
     },
     "metadata": {},
     "output_type": "display_data"
    },
    {
     "data": {
      "application/vnd.jupyter.widget-view+json": {
       "model_id": "85cbccf56918476cbd0fdbbcf0b44430",
       "version_major": 2,
       "version_minor": 0
      },
      "text/plain": [
       "HBox(children=(IntProgress(value=0, description='Writing...', max=6000, style=ProgressStyle(description_width=…"
      ]
     },
     "metadata": {},
     "output_type": "display_data"
    },
    {
     "data": {
      "application/vnd.jupyter.widget-view+json": {
       "model_id": "6078f7a6e82849488791529e82894fce",
       "version_major": 2,
       "version_minor": 0
      },
      "text/plain": [
       "HBox(children=(IntProgress(value=1, bar_style='info', description='Reading...', max=1, style=ProgressStyle(des…"
      ]
     },
     "metadata": {},
     "output_type": "display_data"
    },
    {
     "data": {
      "application/vnd.jupyter.widget-view+json": {
       "model_id": "53d95a14f526429ebe221c75b80c078f",
       "version_major": 2,
       "version_minor": 0
      },
      "text/plain": [
       "HBox(children=(IntProgress(value=0, description='Writing...', max=6000, style=ProgressStyle(description_width=…"
      ]
     },
     "metadata": {},
     "output_type": "display_data"
    },
    {
     "data": {
      "application/vnd.jupyter.widget-view+json": {
       "model_id": "291ac3cd25bc486bb0a09ff0f2bc3739",
       "version_major": 2,
       "version_minor": 0
      },
      "text/plain": [
       "HBox(children=(IntProgress(value=1, bar_style='info', description='Reading...', max=1, style=ProgressStyle(des…"
      ]
     },
     "metadata": {},
     "output_type": "display_data"
    },
    {
     "data": {
      "application/vnd.jupyter.widget-view+json": {
       "model_id": "737c71e963fb4ae8a0e231fe8f0c34fa",
       "version_major": 2,
       "version_minor": 0
      },
      "text/plain": [
       "HBox(children=(IntProgress(value=0, description='Writing...', max=6000, style=ProgressStyle(description_width=…"
      ]
     },
     "metadata": {},
     "output_type": "display_data"
    },
    {
     "data": {
      "application/vnd.jupyter.widget-view+json": {
       "model_id": "697d478fd08843fca332db20b77d96e4",
       "version_major": 2,
       "version_minor": 0
      },
      "text/plain": [
       "HBox(children=(IntProgress(value=1, bar_style='info', description='Reading...', max=1, style=ProgressStyle(des…"
      ]
     },
     "metadata": {},
     "output_type": "display_data"
    },
    {
     "data": {
      "application/vnd.jupyter.widget-view+json": {
       "model_id": "fb671a0dfbec487d857f610dedb33fea",
       "version_major": 2,
       "version_minor": 0
      },
      "text/plain": [
       "HBox(children=(IntProgress(value=0, description='Writing...', max=6000, style=ProgressStyle(description_width=…"
      ]
     },
     "metadata": {},
     "output_type": "display_data"
    },
    {
     "data": {
      "application/vnd.jupyter.widget-view+json": {
       "model_id": "aff45e082b2140f8a2875769216fc77a",
       "version_major": 2,
       "version_minor": 0
      },
      "text/plain": [
       "HBox(children=(IntProgress(value=1, bar_style='info', description='Reading...', max=1, style=ProgressStyle(des…"
      ]
     },
     "metadata": {},
     "output_type": "display_data"
    },
    {
     "data": {
      "application/vnd.jupyter.widget-view+json": {
       "model_id": "ea4efd2ba1144d2aa9f5c6aace260671",
       "version_major": 2,
       "version_minor": 0
      },
      "text/plain": [
       "HBox(children=(IntProgress(value=0, description='Writing...', max=6000, style=ProgressStyle(description_width=…"
      ]
     },
     "metadata": {},
     "output_type": "display_data"
    },
    {
     "name": "stdout",
     "output_type": "stream",
     "text": [
      "\n"
     ]
    },
    {
     "data": {
      "application/vnd.jupyter.widget-view+json": {
       "model_id": "72468d2127bc4e01aaeda88655b4cec7",
       "version_major": 2,
       "version_minor": 0
      },
      "text/plain": [
       "HBox(children=(IntProgress(value=1, bar_style='info', max=1), HTML(value='')))"
      ]
     },
     "metadata": {},
     "output_type": "display_data"
    },
    {
     "name": "stdout",
     "output_type": "stream",
     "text": [
      "\n"
     ]
    },
    {
     "data": {
      "application/vnd.jupyter.widget-view+json": {
       "model_id": "d0b496e6a23c4ae18752d1d7080c1e89",
       "version_major": 2,
       "version_minor": 0
      },
      "text/plain": [
       "HBox(children=(IntProgress(value=0, description='Shuffling...', max=1, style=ProgressStyle(description_width='…"
      ]
     },
     "metadata": {},
     "output_type": "display_data"
    },
    {
     "data": {
      "application/vnd.jupyter.widget-view+json": {
       "model_id": "9e27d2fb910e4fc79203688ffeb35a85",
       "version_major": 2,
       "version_minor": 0
      },
      "text/plain": [
       "HBox(children=(IntProgress(value=1, bar_style='info', description='Reading...', max=1, style=ProgressStyle(des…"
      ]
     },
     "metadata": {},
     "output_type": "display_data"
    },
    {
     "data": {
      "application/vnd.jupyter.widget-view+json": {
       "model_id": "51edd3edb8e84d03bfdff47ad83f279d",
       "version_major": 2,
       "version_minor": 0
      },
      "text/plain": [
       "HBox(children=(IntProgress(value=0, description='Writing...', max=10000, style=ProgressStyle(description_width…"
      ]
     },
     "metadata": {},
     "output_type": "display_data"
    },
    {
     "name": "stdout",
     "output_type": "stream",
     "text": [
      "\n"
     ]
    }
   ],
   "source": [
    "dataset, metadata = tfds.load('fashion_mnist', as_supervised=True, with_info=True)\n",
    "train_dataset, test_dataset = dataset['train'], dataset['test']"
   ]
  },
  {
   "cell_type": "code",
   "execution_count": 12,
   "metadata": {},
   "outputs": [],
   "source": [
    "class_names = ['T-shirt/top', 'Trouser', 'Pullover', 'Dress', 'Coat', \n",
    "               'Sandal',      'Shirt',   'Sneaker',  'Bag',   'Ankle boot']"
   ]
  },
  {
   "cell_type": "code",
   "execution_count": 13,
   "metadata": {},
   "outputs": [
    {
     "name": "stdout",
     "output_type": "stream",
     "text": [
      "Number of training examples: 60000\n",
      "Number of test examples:     10000\n"
     ]
    }
   ],
   "source": [
    "num_train_examples = metadata.splits['train'].num_examples\n",
    "num_test_examples = metadata.splits['test'].num_examples\n",
    "print(\"Number of training examples: {}\".format(num_train_examples))\n",
    "print(\"Number of test examples:     {}\".format(num_test_examples))"
   ]
  },
  {
   "cell_type": "code",
   "execution_count": 14,
   "metadata": {},
   "outputs": [],
   "source": [
    "def normalize(images, labels):\n",
    "  images = tf.cast(images, tf.float32)\n",
    "  images /= 255\n",
    "  return images, labels"
   ]
  },
  {
   "cell_type": "code",
   "execution_count": 15,
   "metadata": {},
   "outputs": [
    {
     "data": {
      "image/png": "[encoded data removed]",
      "text/plain": [
       "<Figure size 432x288 with 2 Axes>"
      ]
     },
     "metadata": {
      "needs_background": "light"
     },
     "output_type": "display_data"
    }
   ],
   "source": [
    "for image, label in test_dataset.take(1):\n",
    "  break\n",
    "image = image.numpy().reshape((28,28))\n",
    "\n",
    "# Plot the image - voila a piece of fashion clothing\n",
    "plt.figure()\n",
    "plt.imshow(image, cmap=plt.cm.binary)\n",
    "plt.colorbar()\n",
    "plt.grid(False)\n",
    "plt.show()"
   ]
  },
  {
   "cell_type": "code",
   "execution_count": 16,
   "metadata": {},
   "outputs": [
    {
     "data": {
      "image/png": "[encoded data removed]",
      "text/plain": [
       "<Figure size 720x720 with 25 Axes>"
      ]
     },
     "metadata": {},
     "output_type": "display_data"
    }
   ],
   "source": [
    "plt.figure(figsize=(10,10))\n",
    "i = 0\n",
    "for (image, label) in test_dataset.take(25):\n",
    "    image = image.numpy().reshape((28,28))\n",
    "    plt.subplot(5,5,i+1)\n",
    "    plt.xticks([])\n",
    "    plt.yticks([])\n",
    "    plt.grid(False)\n",
    "    plt.imshow(image, cmap=plt.cm.binary)\n",
    "    plt.xlabel(class_names[label])\n",
    "    i += 1\n",
    "plt.show()"
   ]
  },
  {
   "cell_type": "markdown",
   "metadata": {},
   "source": [
    "# Build the model"
   ]
  },
  {
   "cell_type": "code",
   "execution_count": 17,
   "metadata": {},
   "outputs": [],
   "source": [
    "model = tf.keras.Sequential([\n",
    "    tf.keras.layers.Flatten(input_shape=(28, 28, 1)),\n",
    "    tf.keras.layers.Dense(128, activation=tf.nn.relu),\n",
    "    tf.keras.layers.Dense(10,  activation=tf.nn.softmax)\n",
    "])"
   ]
  },
  {
   "cell_type": "code",
   "execution_count": 18,
   "metadata": {},
   "outputs": [],
   "source": [
    "model.compile(optimizer='adam', \n",
    "              loss='sparse_categorical_crossentropy',\n",
    "              metrics=['accuracy'])"
   ]
  },
  {
   "cell_type": "markdown",
   "metadata": {},
   "source": [
    "# Train the model"
   ]
  },
  {
   "cell_type": "code",
   "execution_count": 19,
   "metadata": {},
   "outputs": [],
   "source": [
    "BATCH_SIZE = 32\n",
    "train_dataset = train_dataset.repeat().shuffle(num_train_examples).batch(BATCH_SIZE)\n",
    "test_dataset = test_dataset.batch(BATCH_SIZE)"
   ]
  },
  {
   "cell_type": "code",
   "execution_count": 49,
   "metadata": {},
   "outputs": [
    {
     "name": "stdout",
     "output_type": "stream",
     "text": [
      "Epoch 1/5\n"
     ]
    },
    {
     "name": "stdout",
     "output_type": "stream",
     "text": [
      "1078/1875 [================>.............] - ETA: 6:40:28 - loss: 0.7320 - accuracy: 0.843 - ETA: 50:04 - loss: 0.6474 - accuracy: 0.8008  - ETA: 36:29 - loss: 0.5987 - accuracy: 0.798 - ETA: 21:07 - loss: 0.5596 - accuracy: 0.822 - ETA: 17:29 - loss: 0.5557 - accuracy: 0.820 - ETA: 13:25 - loss: 0.5417 - accuracy: 0.828 - ETA: 11:52 - loss: 0.5465 - accuracy: 0.827 - ETA: 10:21 - loss: 0.5453 - accuracy: 0.831 - ETA: 9:53 - loss: 0.5331 - accuracy: 0.835 - ETA: 9:01 - loss: 0.5320 - accuracy: 0.83 - ETA: 8:18 - loss: 0.5284 - accuracy: 0.83 - ETA: 8:00 - loss: 0.5308 - accuracy: 0.83 - ETA: 7:26 - loss: 0.5209 - accuracy: 0.83 - ETA: 6:36 - loss: 0.5126 - accuracy: 0.83 - ETA: 6:01 - loss: 0.5254 - accuracy: 0.83 - ETA: 5:46 - loss: 0.5248 - accuracy: 0.83 - ETA: 5:03 - loss: 0.5329 - accuracy: 0.83 - ETA: 4:46 - loss: 0.5413 - accuracy: 0.83 - ETA: 4:30 - loss: 0.5370 - accuracy: 0.83 - ETA: 4:19 - loss: 0.5388 - accuracy: 0.83 - ETA: 4:02 - loss: 0.5420 - accuracy: 0.82 - ETA: 3:38 - loss: 0.5391 - accuracy: 0.82 - ETA: 3:29 - loss: 0.5373 - accuracy: 0.82 - ETA: 3:21 - loss: 0.5393 - accuracy: 0.82 - ETA: 3:06 - loss: 0.5483 - accuracy: 0.82 - ETA: 2:59 - loss: 0.5476 - accuracy: 0.82 - ETA: 2:53 - loss: 0.5464 - accuracy: 0.82 - ETA: 2:41 - loss: 0.5540 - accuracy: 0.81 - ETA: 2:34 - loss: 0.5518 - accuracy: 0.81 - ETA: 2:29 - loss: 0.5478 - accuracy: 0.82 - ETA: 2:22 - loss: 0.5498 - accuracy: 0.81 - ETA: 2:20 - loss: 0.5495 - accuracy: 0.81 - ETA: 2:16 - loss: 0.5495 - accuracy: 0.81 - ETA: 2:14 - loss: 0.5471 - accuracy: 0.82 - ETA: 2:07 - loss: 0.5425 - accuracy: 0.82 - ETA: 2:05 - loss: 0.5429 - accuracy: 0.82 - ETA: 2:01 - loss: 0.5475 - accuracy: 0.82 - ETA: 1:55 - loss: 0.5483 - accuracy: 0.82 - ETA: 1:52 - loss: 0.5474 - accuracy: 0.82 - ETA: 1:49 - loss: 0.5452 - accuracy: 0.82 - ETA: 1:44 - loss: 0.5411 - accuracy: 0.82 - ETA: 1:43 - loss: 0.5403 - accuracy: 0.82 - ETA: 1:39 - loss: 0.5430 - accuracy: 0.82 - ETA: 1:37 - loss: 0.5414 - accuracy: 0.82 - ETA: 1:35 - loss: 0.5407 - accuracy: 0.82 - ETA: 1:32 - loss: 0.5394 - accuracy: 0.82 - ETA: 1:32 - loss: 0.5384 - accuracy: 0.82 - ETA: 1:29 - loss: 0.5361 - accuracy: 0.82 - ETA: 1:29 - loss: 0.5374 - accuracy: 0.82 - ETA: 1:25 - loss: 0.5380 - accuracy: 0.82 - ETA: 1:23 - loss: 0.5387 - accuracy: 0.82 - ETA: 1:22 - loss: 0.5383 - accuracy: 0.82 - ETA: 1:19 - loss: 0.5393 - accuracy: 0.82 - ETA: 1:19 - loss: 0.5392 - accuracy: 0.82 - ETA: 1:18 - loss: 0.5413 - accuracy: 0.81 - ETA: 1:17 - loss: 0.5398 - accuracy: 0.82 - ETA: 1:15 - loss: 0.5373 - accuracy: 0.82 - ETA: 1:14 - loss: 0.5366 - accuracy: 0.82 - ETA: 1:13 - loss: 0.5357 - accuracy: 0.82 - ETA: 1:10 - loss: 0.5341 - accuracy: 0.82 - ETA: 1:09 - loss: 0.5324 - accuracy: 0.82 - ETA: 1:08 - loss: 0.5336 - accuracy: 0.82 - ETA: 1:08 - loss: 0.5343 - accuracy: 0.82 - ETA: 1:06 - loss: 0.5349 - accuracy: 0.82 - ETA: 1:04 - loss: 0.5344 - accuracy: 0.82 - ETA: 1:04 - loss: 0.5339 - accuracy: 0.82 - ETA: 1:03 - loss: 0.5363 - accuracy: 0.82 - ETA: 1:02 - loss: 0.5366 - accuracy: 0.82 - ETA: 1:00 - loss: 0.5348 - accuracy: 0.82 - ETA: 1:00 - loss: 0.5343 - accuracy: 0.82 - ETA: 59s - loss: 0.5335 - accuracy: 0.8228 - ETA: 58s - loss: 0.5324 - accuracy: 0.823 - ETA: 57s - loss: 0.5318 - accuracy: 0.823 - ETA: 57s - loss: 0.5315 - accuracy: 0.823 - ETA: 56s - loss: 0.5312 - accuracy: 0.823 - ETA: 55s - loss: 0.5308 - accuracy: 0.823 - ETA: 55s - loss: 0.5319 - accuracy: 0.822 - ETA: 54s - loss: 0.5346 - accuracy: 0.822 - ETA: 53s - loss: 0.5337 - accuracy: 0.822 - ETA: 52s - loss: 0.5319 - accuracy: 0.823 - ETA: 51s - loss: 0.5306 - accuracy: 0.824 - ETA: 51s - loss: 0.5304 - accuracy: 0.824 - ETA: 50s - loss: 0.5301 - accuracy: 0.823 - ETA: 49s - loss: 0.5289 - accuracy: 0.824 - ETA: 48s - loss: 0.5280 - accuracy: 0.824 - ETA: 48s - loss: 0.5282 - accuracy: 0.824 - ETA: 47s - loss: 0.5272 - accuracy: 0.824 - ETA: 46s - loss: 0.5274 - accuracy: 0.824 - ETA: 46s - loss: 0.5273 - accuracy: 0.824 - ETA: 46s - loss: 0.5260 - accuracy: 0.824 - ETA: 45s - loss: 0.5261 - accuracy: 0.824 - ETA: 44s - loss: 0.5285 - accuracy: 0.824 - ETA: 44s - loss: 0.5283 - accuracy: 0.824 - ETA: 43s - loss: 0.5279 - accuracy: 0.824 - ETA: 43s - loss: 0.5292 - accuracy: 0.824 - ETA: 42s - loss: 0.5275 - accuracy: 0.824 - ETA: 41s - loss: 0.5266 - accuracy: 0.825 - ETA: 41s - loss: 0.5263 - accuracy: 0.825 - ETA: 40s - loss: 0.5262 - accuracy: 0.825 - ETA: 39s - loss: 0.5252 - accuracy: 0.826 - ETA: 39s - loss: 0.5247 - accuracy: 0.826 - ETA: 38s - loss: 0.5242 - accuracy: 0.826 - ETA: 37s - loss: 0.5239 - accuracy: 0.826 - ETA: 37s - loss: 0.5242 - accuracy: 0.826 - ETA: 36s - loss: 0.5243 - accuracy: 0.826 - ETA: 36s - loss: 0.5233 - accuracy: 0.826 - ETA: 36s - loss: 0.5234 - accuracy: 0.827 - ETA: 35s - loss: 0.5231 - accuracy: 0.827 - ETA: 34s - loss: 0.5229 - accuracy: 0.827 - ETA: 34s - loss: 0.5233 - accuracy: 0.827 - ETA: 34s - loss: 0.5236 - accuracy: 0.827 - ETA: 33s - loss: 0.5236 - accuracy: 0.827 - ETA: 33s - loss: 0.5233 - accuracy: 0.827 - ETA: 33s - loss: 0.5241 - accuracy: 0.827 - ETA: 32s - loss: 0.5234 - accuracy: 0.827 - ETA: 32s - loss: 0.5234 - accuracy: 0.827 - ETA: 32s - loss: 0.5239 - accuracy: 0.827 - ETA: 31s - loss: 0.5221 - accuracy: 0.827 - ETA: 31s - loss: 0.5221 - accuracy: 0.827 - ETA: 30s - loss: 0.5217 - accuracy: 0.828 - ETA: 30s - loss: 0.5216 - accuracy: 0.828 - ETA: 30s - loss: 0.5213 - accuracy: 0.828 - ETA: 30s - loss: 0.5212 - accuracy: 0.828 - ETA: 29s - loss: 0.5213 - accuracy: 0.827 - ETA: 29s - loss: 0.5200 - accuracy: 0.828 - ETA: 29s - loss: 0.5198 - accuracy: 0.828 - ETA: 28s - loss: 0.5200 - accuracy: 0.827 - ETA: 28s - loss: 0.5196 - accuracy: 0.828 - ETA: 28s - loss: 0.5197 - accuracy: 0.828 - ETA: 28s - loss: 0.5196 - accuracy: 0.828 - ETA: 27s - loss: 0.5194 - accuracy: 0.828 - ETA: 27s - loss: 0.5197 - accuracy: 0.828 - ETA: 27s - loss: 0.5195 - accuracy: 0.829 - ETA: 26s - loss: 0.5194 - accuracy: 0.829 - ETA: 26s - loss: 0.5193 - accuracy: 0.829 - ETA: 26s - loss: 0.5186 - accuracy: 0.829 - ETA: 25s - loss: 0.5189 - accuracy: 0.829 - ETA: 25s - loss: 0.5185 - accuracy: 0.829 - ETA: 25s - loss: 0.5181 - accuracy: 0.829 - ETA: 25s - loss: 0.5175 - accuracy: 0.830 - ETA: 25s - loss: 0.5170 - accuracy: 0.830 - ETA: 25s - loss: 0.5172 - accuracy: 0.830 - ETA: 24s - loss: 0.5170 - accuracy: 0.830 - ETA: 24s - loss: 0.5173 - accuracy: 0.830 - ETA: 24s - loss: 0.5173 - accuracy: 0.830 - ETA: 23s - loss: 0.5174 - accuracy: 0.829 - ETA: 23s - loss: 0.5178 - accuracy: 0.829 - ETA: 23s - loss: 0.5169 - accuracy: 0.830 - ETA: 23s - loss: 0.5174 - accuracy: 0.830 - ETA: 23s - loss: 0.5172 - accuracy: 0.830 - ETA: 23s - loss: 0.5177 - accuracy: 0.830 - ETA: 22s - loss: 0.5179 - accuracy: 0.829 - ETA: 22s - loss: 0.5180 - accuracy: 0.829 - ETA: 22s - loss: 0.5187 - accuracy: 0.829 - ETA: 22s - loss: 0.5187 - accuracy: 0.829 - ETA: 22s - loss: 0.5184 - accuracy: 0.829 - ETA: 22s - loss: 0.5184 - accuracy: 0.829 - ETA: 21s - loss: 0.5180 - accuracy: 0.829 - ETA: 21s - loss: 0.5188 - accuracy: 0.829 - ETA: 21s - loss: 0.5212 - accuracy: 0.829 - ETA: 21s - loss: 0.5211 - accuracy: 0.829 - ETA: 21s - loss: 0.5212 - accuracy: 0.829 - ETA: 21s - loss: 0.5214 - accuracy: 0.829 - ETA: 21s - loss: 0.5211 - accuracy: 0.829 - ETA: 21s - loss: 0.5209 - accuracy: 0.829 - ETA: 20s - loss: 0.5212 - accuracy: 0.829 - ETA: 20s - loss: 0.5208 - accuracy: 0.829 - ETA: 20s - loss: 0.5198 - accuracy: 0.829 - ETA: 20s - loss: 0.5194 - accuracy: 0.829 - ETA: 20s - loss: 0.5194 - accuracy: 0.829 - ETA: 20s - loss: 0.5201 - accuracy: 0.829 - ETA: 19s - loss: 0.5201 - accuracy: 0.829 - ETA: 19s - loss: 0.5203 - accuracy: 0.829 - ETA: 19s - loss: 0.5198 - accuracy: 0.829 - ETA: 19s - loss: 0.5206 - accuracy: 0.829 - ETA: 19s - loss: 0.5206 - accuracy: 0.829 - ETA: 19s - loss: 0.5203 - accuracy: 0.829 - ETA: 18s - loss: 0.5202 - accuracy: 0.829 - ETA: 18s - loss: 0.5197 - accuracy: 0.829 - ETA: 18s - loss: 0.5196 - accuracy: 0.829 - ETA: 18s - loss: 0.5192 - accuracy: 0.829 - ETA: 18s - loss: 0.5188 - accuracy: 0.829 - ETA: 18s - loss: 0.5196 - accuracy: 0.829 - ETA: 17s - loss: 0.5193 - accuracy: 0.829 - ETA: 17s - loss: 0.5191 - accuracy: 0.8291\b\b\b\b\b\b\b\b\b\b\b\b\b\b\b\b\b\b\b\b\b\b\b\b\b\b\b\b\b\b\b\b\b\b\b\b\b\b\b\b\b\b\b\b\b\b\b\b\b\b\b\b\b\b\b\b\b\b\b\b\b\b\b\b\b\b\b\b\b\b\b\b\b\b\b\b\b\b\b\b\b\b\b\b\b\b\b"
     ]
    },
    {
     "name": "stdout",
     "output_type": "stream",
     "text": [
      "1875/1875 [==============================] - ETA: 17s - loss: 0.5195 - accuracy: 0.828 - ETA: 17s - loss: 0.5192 - accuracy: 0.829 - ETA: 17s - loss: 0.5192 - accuracy: 0.828 - ETA: 17s - loss: 0.5192 - accuracy: 0.829 - ETA: 16s - loss: 0.5193 - accuracy: 0.828 - ETA: 16s - loss: 0.5197 - accuracy: 0.828 - ETA: 16s - loss: 0.5200 - accuracy: 0.828 - ETA: 16s - loss: 0.5196 - accuracy: 0.828 - ETA: 16s - loss: 0.5196 - accuracy: 0.828 - ETA: 16s - loss: 0.5196 - accuracy: 0.828 - ETA: 16s - loss: 0.5198 - accuracy: 0.828 - ETA: 15s - loss: 0.5205 - accuracy: 0.828 - ETA: 15s - loss: 0.5205 - accuracy: 0.828 - ETA: 15s - loss: 0.5205 - accuracy: 0.828 - ETA: 15s - loss: 0.5204 - accuracy: 0.828 - ETA: 15s - loss: 0.5205 - accuracy: 0.828 - ETA: 15s - loss: 0.5205 - accuracy: 0.829 - ETA: 14s - loss: 0.5199 - accuracy: 0.829 - ETA: 14s - loss: 0.5200 - accuracy: 0.829 - ETA: 14s - loss: 0.5194 - accuracy: 0.829 - ETA: 14s - loss: 0.5192 - accuracy: 0.829 - ETA: 14s - loss: 0.5198 - accuracy: 0.829 - ETA: 14s - loss: 0.5194 - accuracy: 0.829 - ETA: 14s - loss: 0.5191 - accuracy: 0.829 - ETA: 14s - loss: 0.5191 - accuracy: 0.829 - ETA: 13s - loss: 0.5193 - accuracy: 0.829 - ETA: 13s - loss: 0.5194 - accuracy: 0.829 - ETA: 13s - loss: 0.5196 - accuracy: 0.828 - ETA: 13s - loss: 0.5202 - accuracy: 0.828 - ETA: 13s - loss: 0.5200 - accuracy: 0.828 - ETA: 13s - loss: 0.5200 - accuracy: 0.828 - ETA: 12s - loss: 0.5198 - accuracy: 0.829 - ETA: 12s - loss: 0.5204 - accuracy: 0.828 - ETA: 12s - loss: 0.5208 - accuracy: 0.828 - ETA: 12s - loss: 0.5207 - accuracy: 0.828 - ETA: 12s - loss: 0.5205 - accuracy: 0.828 - ETA: 12s - loss: 0.5203 - accuracy: 0.828 - ETA: 12s - loss: 0.5201 - accuracy: 0.828 - ETA: 12s - loss: 0.5199 - accuracy: 0.828 - ETA: 11s - loss: 0.5197 - accuracy: 0.828 - ETA: 11s - loss: 0.5198 - accuracy: 0.828 - ETA: 11s - loss: 0.5196 - accuracy: 0.828 - ETA: 11s - loss: 0.5191 - accuracy: 0.828 - ETA: 11s - loss: 0.5187 - accuracy: 0.828 - ETA: 11s - loss: 0.5184 - accuracy: 0.829 - ETA: 11s - loss: 0.5184 - accuracy: 0.829 - ETA: 11s - loss: 0.5180 - accuracy: 0.829 - ETA: 10s - loss: 0.5181 - accuracy: 0.829 - ETA: 10s - loss: 0.5184 - accuracy: 0.829 - ETA: 10s - loss: 0.5183 - accuracy: 0.829 - ETA: 10s - loss: 0.5186 - accuracy: 0.829 - ETA: 10s - loss: 0.5184 - accuracy: 0.829 - ETA: 10s - loss: 0.5189 - accuracy: 0.828 - ETA: 10s - loss: 0.5188 - accuracy: 0.829 - ETA: 10s - loss: 0.5184 - accuracy: 0.829 - ETA: 10s - loss: 0.5188 - accuracy: 0.828 - ETA: 10s - loss: 0.5188 - accuracy: 0.828 - ETA: 9s - loss: 0.5194 - accuracy: 0.828 - ETA: 9s - loss: 0.5191 - accuracy: 0.82 - ETA: 9s - loss: 0.5194 - accuracy: 0.82 - ETA: 9s - loss: 0.5194 - accuracy: 0.82 - ETA: 9s - loss: 0.5193 - accuracy: 0.82 - ETA: 9s - loss: 0.5191 - accuracy: 0.82 - ETA: 9s - loss: 0.5201 - accuracy: 0.82 - ETA: 9s - loss: 0.5200 - accuracy: 0.82 - ETA: 8s - loss: 0.5201 - accuracy: 0.82 - ETA: 8s - loss: 0.5202 - accuracy: 0.82 - ETA: 8s - loss: 0.5201 - accuracy: 0.82 - ETA: 8s - loss: 0.5197 - accuracy: 0.82 - ETA: 8s - loss: 0.5198 - accuracy: 0.82 - ETA: 8s - loss: 0.5193 - accuracy: 0.82 - ETA: 8s - loss: 0.5192 - accuracy: 0.82 - ETA: 8s - loss: 0.5192 - accuracy: 0.82 - ETA: 8s - loss: 0.5196 - accuracy: 0.82 - ETA: 7s - loss: 0.5197 - accuracy: 0.82 - ETA: 7s - loss: 0.5198 - accuracy: 0.82 - ETA: 7s - loss: 0.5195 - accuracy: 0.82 - ETA: 7s - loss: 0.5195 - accuracy: 0.82 - ETA: 7s - loss: 0.5195 - accuracy: 0.82 - ETA: 7s - loss: 0.5195 - accuracy: 0.82 - ETA: 7s - loss: 0.5195 - accuracy: 0.82 - ETA: 7s - loss: 0.5195 - accuracy: 0.82 - ETA: 7s - loss: 0.5193 - accuracy: 0.82 - ETA: 7s - loss: 0.5195 - accuracy: 0.82 - ETA: 7s - loss: 0.5193 - accuracy: 0.82 - ETA: 6s - loss: 0.5220 - accuracy: 0.82 - ETA: 6s - loss: 0.5224 - accuracy: 0.82 - ETA: 6s - loss: 0.5221 - accuracy: 0.82 - ETA: 6s - loss: 0.5226 - accuracy: 0.82 - ETA: 6s - loss: 0.5229 - accuracy: 0.82 - ETA: 6s - loss: 0.5229 - accuracy: 0.82 - ETA: 6s - loss: 0.5227 - accuracy: 0.82 - ETA: 6s - loss: 0.5224 - accuracy: 0.82 - ETA: 6s - loss: 0.5228 - accuracy: 0.82 - ETA: 6s - loss: 0.5225 - accuracy: 0.82 - ETA: 5s - loss: 0.5221 - accuracy: 0.82 - ETA: 5s - loss: 0.5222 - accuracy: 0.82 - ETA: 5s - loss: 0.5220 - accuracy: 0.82 - ETA: 5s - loss: 0.5218 - accuracy: 0.82 - ETA: 5s - loss: 0.5217 - accuracy: 0.82 - ETA: 5s - loss: 0.5217 - accuracy: 0.82 - ETA: 5s - loss: 0.5214 - accuracy: 0.82 - ETA: 5s - loss: 0.5213 - accuracy: 0.82 - ETA: 4s - loss: 0.5217 - accuracy: 0.82 - ETA: 4s - loss: 0.5216 - accuracy: 0.82 - ETA: 4s - loss: 0.5213 - accuracy: 0.82 - ETA: 4s - loss: 0.5212 - accuracy: 0.82 - ETA: 4s - loss: 0.5216 - accuracy: 0.82 - ETA: 4s - loss: 0.5212 - accuracy: 0.82 - ETA: 4s - loss: 0.5216 - accuracy: 0.82 - ETA: 4s - loss: 0.5212 - accuracy: 0.82 - ETA: 3s - loss: 0.5213 - accuracy: 0.82 - ETA: 3s - loss: 0.5215 - accuracy: 0.82 - ETA: 3s - loss: 0.5214 - accuracy: 0.82 - ETA: 3s - loss: 0.5217 - accuracy: 0.82 - ETA: 3s - loss: 0.5217 - accuracy: 0.82 - ETA: 3s - loss: 0.5218 - accuracy: 0.82 - ETA: 3s - loss: 0.5219 - accuracy: 0.82 - ETA: 3s - loss: 0.5220 - accuracy: 0.82 - ETA: 3s - loss: 0.5225 - accuracy: 0.82 - ETA: 3s - loss: 0.5224 - accuracy: 0.82 - ETA: 3s - loss: 0.5225 - accuracy: 0.82 - ETA: 2s - loss: 0.5227 - accuracy: 0.82 - ETA: 2s - loss: 0.5227 - accuracy: 0.82 - ETA: 2s - loss: 0.5228 - accuracy: 0.82 - ETA: 2s - loss: 0.5227 - accuracy: 0.82 - ETA: 2s - loss: 0.5225 - accuracy: 0.82 - ETA: 2s - loss: 0.5222 - accuracy: 0.82 - ETA: 2s - loss: 0.5220 - accuracy: 0.82 - ETA: 2s - loss: 0.5221 - accuracy: 0.82 - ETA: 2s - loss: 0.5224 - accuracy: 0.82 - ETA: 1s - loss: 0.5224 - accuracy: 0.82 - ETA: 1s - loss: 0.5224 - accuracy: 0.82 - ETA: 1s - loss: 0.5222 - accuracy: 0.82 - ETA: 1s - loss: 0.5218 - accuracy: 0.82 - ETA: 1s - loss: 0.5219 - accuracy: 0.82 - ETA: 1s - loss: 0.5218 - accuracy: 0.82 - ETA: 1s - loss: 0.5221 - accuracy: 0.82 - ETA: 1s - loss: 0.5219 - accuracy: 0.82 - ETA: 1s - loss: 0.5217 - accuracy: 0.82 - ETA: 1s - loss: 0.5217 - accuracy: 0.82 - ETA: 1s - loss: 0.5216 - accuracy: 0.82 - ETA: 1s - loss: 0.5217 - accuracy: 0.82 - ETA: 0s - loss: 0.5218 - accuracy: 0.82 - ETA: 0s - loss: 0.5220 - accuracy: 0.82 - ETA: 0s - loss: 0.5223 - accuracy: 0.82 - ETA: 0s - loss: 0.5221 - accuracy: 0.82 - ETA: 0s - loss: 0.5224 - accuracy: 0.82 - ETA: 0s - loss: 0.5224 - accuracy: 0.82 - ETA: 0s - loss: 0.5222 - accuracy: 0.82 - ETA: 0s - loss: 0.5223 - accuracy: 0.82 - ETA: 0s - loss: 0.5224 - accuracy: 0.82 - ETA: 0s - loss: 0.5222 - accuracy: 0.82 - ETA: 0s - loss: 0.5225 - accuracy: 0.82 - ETA: 0s - loss: 0.5227 - accuracy: 0.82 - 33s 18ms/step - loss: 0.5225 - accuracy: 0.8283\n",
      "Epoch 2/5\n"
     ]
    },
    {
     "name": "stdout",
     "output_type": "stream",
     "text": [
      "1123/1875 [================>.............] - ETA: 3:18 - loss: 0.5369 - accuracy: 0.87 - ETA: 32s - loss: 0.5314 - accuracy: 0.8333 - ETA: 35s - loss: 0.5094 - accuracy: 0.835 - ETA: 26s - loss: 0.5168 - accuracy: 0.829 - ETA: 27s - loss: 0.5185 - accuracy: 0.835 - ETA: 24s - loss: 0.5097 - accuracy: 0.838 - ETA: 24s - loss: 0.5000 - accuracy: 0.837 - ETA: 21s - loss: 0.5108 - accuracy: 0.834 - ETA: 22s - loss: 0.5106 - accuracy: 0.831 - ETA: 21s - loss: 0.5050 - accuracy: 0.833 - ETA: 20s - loss: 0.5143 - accuracy: 0.829 - ETA: 21s - loss: 0.5092 - accuracy: 0.832 - ETA: 19s - loss: 0.5094 - accuracy: 0.830 - ETA: 20s - loss: 0.5172 - accuracy: 0.830 - ETA: 20s - loss: 0.5214 - accuracy: 0.830 - ETA: 19s - loss: 0.5276 - accuracy: 0.831 - ETA: 20s - loss: 0.5232 - accuracy: 0.832 - ETA: 20s - loss: 0.5261 - accuracy: 0.831 - ETA: 19s - loss: 0.5282 - accuracy: 0.829 - ETA: 19s - loss: 0.5269 - accuracy: 0.829 - ETA: 18s - loss: 0.5173 - accuracy: 0.831 - ETA: 18s - loss: 0.5242 - accuracy: 0.829 - ETA: 18s - loss: 0.5198 - accuracy: 0.829 - ETA: 18s - loss: 0.5222 - accuracy: 0.828 - ETA: 18s - loss: 0.5219 - accuracy: 0.827 - ETA: 18s - loss: 0.5245 - accuracy: 0.827 - ETA: 19s - loss: 0.5265 - accuracy: 0.827 - ETA: 18s - loss: 0.5336 - accuracy: 0.826 - ETA: 18s - loss: 0.5320 - accuracy: 0.826 - ETA: 18s - loss: 0.5340 - accuracy: 0.826 - ETA: 17s - loss: 0.5331 - accuracy: 0.825 - ETA: 17s - loss: 0.5301 - accuracy: 0.827 - ETA: 17s - loss: 0.5277 - accuracy: 0.827 - ETA: 17s - loss: 0.5235 - accuracy: 0.828 - ETA: 17s - loss: 0.5246 - accuracy: 0.827 - ETA: 17s - loss: 0.5223 - accuracy: 0.828 - ETA: 17s - loss: 0.5246 - accuracy: 0.828 - ETA: 16s - loss: 0.5221 - accuracy: 0.829 - ETA: 17s - loss: 0.5212 - accuracy: 0.829 - ETA: 16s - loss: 0.5207 - accuracy: 0.828 - ETA: 16s - loss: 0.5208 - accuracy: 0.829 - ETA: 16s - loss: 0.5196 - accuracy: 0.829 - ETA: 16s - loss: 0.5206 - accuracy: 0.829 - ETA: 16s - loss: 0.5194 - accuracy: 0.830 - ETA: 16s - loss: 0.5181 - accuracy: 0.831 - ETA: 16s - loss: 0.5169 - accuracy: 0.831 - ETA: 16s - loss: 0.5156 - accuracy: 0.831 - ETA: 16s - loss: 0.5159 - accuracy: 0.830 - ETA: 16s - loss: 0.5146 - accuracy: 0.831 - ETA: 16s - loss: 0.5151 - accuracy: 0.831 - ETA: 15s - loss: 0.5157 - accuracy: 0.832 - ETA: 15s - loss: 0.5159 - accuracy: 0.832 - ETA: 15s - loss: 0.5150 - accuracy: 0.832 - ETA: 15s - loss: 0.5127 - accuracy: 0.832 - ETA: 15s - loss: 0.5121 - accuracy: 0.833 - ETA: 15s - loss: 0.5112 - accuracy: 0.833 - ETA: 15s - loss: 0.5127 - accuracy: 0.832 - ETA: 15s - loss: 0.5123 - accuracy: 0.832 - ETA: 15s - loss: 0.5106 - accuracy: 0.833 - ETA: 15s - loss: 0.5127 - accuracy: 0.832 - ETA: 14s - loss: 0.5140 - accuracy: 0.832 - ETA: 14s - loss: 0.5152 - accuracy: 0.832 - ETA: 15s - loss: 0.5141 - accuracy: 0.832 - ETA: 14s - loss: 0.5136 - accuracy: 0.832 - ETA: 14s - loss: 0.5154 - accuracy: 0.831 - ETA: 14s - loss: 0.5161 - accuracy: 0.831 - ETA: 14s - loss: 0.5164 - accuracy: 0.831 - ETA: 14s - loss: 0.5165 - accuracy: 0.830 - ETA: 14s - loss: 0.5160 - accuracy: 0.831 - ETA: 14s - loss: 0.5145 - accuracy: 0.831 - ETA: 14s - loss: 0.5152 - accuracy: 0.830 - ETA: 14s - loss: 0.5157 - accuracy: 0.830 - ETA: 14s - loss: 0.5154 - accuracy: 0.831 - ETA: 14s - loss: 0.5154 - accuracy: 0.831 - ETA: 14s - loss: 0.5159 - accuracy: 0.831 - ETA: 14s - loss: 0.5161 - accuracy: 0.831 - ETA: 14s - loss: 0.5154 - accuracy: 0.831 - ETA: 13s - loss: 0.5140 - accuracy: 0.831 - ETA: 13s - loss: 0.5148 - accuracy: 0.831 - ETA: 13s - loss: 0.5140 - accuracy: 0.831 - ETA: 13s - loss: 0.5144 - accuracy: 0.831 - ETA: 13s - loss: 0.5137 - accuracy: 0.831 - ETA: 13s - loss: 0.5130 - accuracy: 0.831 - ETA: 13s - loss: 0.5143 - accuracy: 0.831 - ETA: 13s - loss: 0.5129 - accuracy: 0.831 - ETA: 13s - loss: 0.5116 - accuracy: 0.832 - ETA: 13s - loss: 0.5130 - accuracy: 0.831 - ETA: 13s - loss: 0.5117 - accuracy: 0.832 - ETA: 13s - loss: 0.5124 - accuracy: 0.831 - ETA: 13s - loss: 0.5110 - accuracy: 0.832 - ETA: 13s - loss: 0.5112 - accuracy: 0.832 - ETA: 12s - loss: 0.5122 - accuracy: 0.832 - ETA: 12s - loss: 0.5114 - accuracy: 0.832 - ETA: 12s - loss: 0.5129 - accuracy: 0.832 - ETA: 12s - loss: 0.5122 - accuracy: 0.832 - ETA: 12s - loss: 0.5117 - accuracy: 0.832 - ETA: 12s - loss: 0.5127 - accuracy: 0.832 - ETA: 12s - loss: 0.5124 - accuracy: 0.832 - ETA: 12s - loss: 0.5117 - accuracy: 0.832 - ETA: 12s - loss: 0.5123 - accuracy: 0.831 - ETA: 12s - loss: 0.5124 - accuracy: 0.831 - ETA: 12s - loss: 0.5118 - accuracy: 0.831 - ETA: 12s - loss: 0.5140 - accuracy: 0.831 - ETA: 11s - loss: 0.5147 - accuracy: 0.830 - ETA: 11s - loss: 0.5145 - accuracy: 0.830 - ETA: 11s - loss: 0.5145 - accuracy: 0.830 - ETA: 11s - loss: 0.5150 - accuracy: 0.830 - ETA: 11s - loss: 0.5154 - accuracy: 0.830 - ETA: 11s - loss: 0.5142 - accuracy: 0.830 - ETA: 11s - loss: 0.5142 - accuracy: 0.831 - ETA: 11s - loss: 0.5149 - accuracy: 0.830 - ETA: 11s - loss: 0.5159 - accuracy: 0.830 - ETA: 11s - loss: 0.5149 - accuracy: 0.830 - ETA: 11s - loss: 0.5148 - accuracy: 0.830 - ETA: 11s - loss: 0.5161 - accuracy: 0.830 - ETA: 11s - loss: 0.5178 - accuracy: 0.830 - ETA: 11s - loss: 0.5173 - accuracy: 0.830 - ETA: 11s - loss: 0.5174 - accuracy: 0.830 - ETA: 10s - loss: 0.5220 - accuracy: 0.830 - ETA: 11s - loss: 0.5214 - accuracy: 0.830 - ETA: 10s - loss: 0.5211 - accuracy: 0.830 - ETA: 10s - loss: 0.5215 - accuracy: 0.830 - ETA: 10s - loss: 0.5220 - accuracy: 0.829 - ETA: 10s - loss: 0.5206 - accuracy: 0.830 - ETA: 10s - loss: 0.5207 - accuracy: 0.830 - ETA: 10s - loss: 0.5226 - accuracy: 0.829 - ETA: 10s - loss: 0.5238 - accuracy: 0.829 - ETA: 10s - loss: 0.5244 - accuracy: 0.828 - ETA: 10s - loss: 0.5231 - accuracy: 0.829 - ETA: 10s - loss: 0.5232 - accuracy: 0.829 - ETA: 10s - loss: 0.5233 - accuracy: 0.829 - ETA: 10s - loss: 0.5243 - accuracy: 0.828 - ETA: 9s - loss: 0.5240 - accuracy: 0.828 - ETA: 9s - loss: 0.5233 - accuracy: 0.82 - ETA: 9s - loss: 0.5235 - accuracy: 0.82 - ETA: 9s - loss: 0.5240 - accuracy: 0.82 - ETA: 9s - loss: 0.5241 - accuracy: 0.82 - ETA: 9s - loss: 0.5242 - accuracy: 0.82 - ETA: 9s - loss: 0.5238 - accuracy: 0.82 - ETA: 9s - loss: 0.5236 - accuracy: 0.82 - ETA: 9s - loss: 0.5249 - accuracy: 0.82 - ETA: 9s - loss: 0.5240 - accuracy: 0.82 - ETA: 9s - loss: 0.5235 - accuracy: 0.82 - ETA: 9s - loss: 0.5233 - accuracy: 0.82 - ETA: 9s - loss: 0.5240 - accuracy: 0.82 - ETA: 9s - loss: 0.5256 - accuracy: 0.82 - ETA: 9s - loss: 0.5250 - accuracy: 0.82 - ETA: 9s - loss: 0.5253 - accuracy: 0.82 - ETA: 9s - loss: 0.5256 - accuracy: 0.82 - ETA: 9s - loss: 0.5256 - accuracy: 0.82 - ETA: 9s - loss: 0.5263 - accuracy: 0.82 - ETA: 9s - loss: 0.5267 - accuracy: 0.82 - ETA: 9s - loss: 0.5270 - accuracy: 0.82 - ETA: 9s - loss: 0.5269 - accuracy: 0.82 - ETA: 8s - loss: 0.5264 - accuracy: 0.82 - ETA: 9s - loss: 0.5262 - accuracy: 0.82 - ETA: 8s - loss: 0.5258 - accuracy: 0.82 - ETA: 8s - loss: 0.5262 - accuracy: 0.82 - ETA: 8s - loss: 0.5266 - accuracy: 0.82 - ETA: 8s - loss: 0.5264 - accuracy: 0.82 - ETA: 8s - loss: 0.5257 - accuracy: 0.82 - ETA: 8s - loss: 0.5260 - accuracy: 0.82 - ETA: 8s - loss: 0.5263 - accuracy: 0.82 - ETA: 8s - loss: 0.5262 - accuracy: 0.82 - ETA: 8s - loss: 0.5266 - accuracy: 0.82 - ETA: 8s - loss: 0.5266 - accuracy: 0.82 - ETA: 8s - loss: 0.5263 - accuracy: 0.82 - ETA: 8s - loss: 0.5268 - accuracy: 0.82 - ETA: 8s - loss: 0.5270 - accuracy: 0.82 - ETA: 8s - loss: 0.5268 - accuracy: 0.82 - ETA: 8s - loss: 0.5265 - accuracy: 0.82 - ETA: 8s - loss: 0.5261 - accuracy: 0.82 - ETA: 8s - loss: 0.5272 - accuracy: 0.82 - ETA: 8s - loss: 0.5267 - accuracy: 0.82 - ETA: 8s - loss: 0.5269 - accuracy: 0.82 - ETA: 8s - loss: 0.5269 - accuracy: 0.82 - ETA: 8s - loss: 0.5269 - accuracy: 0.82 - ETA: 8s - loss: 0.5263 - accuracy: 0.82 - ETA: 8s - loss: 0.5260 - accuracy: 0.82 - ETA: 7s - loss: 0.5260 - accuracy: 0.82 - ETA: 7s - loss: 0.5259 - accuracy: 0.82 - ETA: 7s - loss: 0.5256 - accuracy: 0.82 - ETA: 7s - loss: 0.5258 - accuracy: 0.82 - ETA: 7s - loss: 0.5255 - accuracy: 0.82 - ETA: 7s - loss: 0.5259 - accuracy: 0.82 - ETA: 7s - loss: 0.5255 - accuracy: 0.82 - ETA: 7s - loss: 0.5257 - accuracy: 0.82 - ETA: 7s - loss: 0.5251 - accuracy: 0.8287"
     ]
    },
    {
     "name": "stdout",
     "output_type": "stream",
     "text": [
      "1875/1875 [==============================] - ETA: 7s - loss: 0.5247 - accuracy: 0.82 - ETA: 7s - loss: 0.5247 - accuracy: 0.82 - ETA: 7s - loss: 0.5244 - accuracy: 0.82 - ETA: 7s - loss: 0.5242 - accuracy: 0.82 - ETA: 7s - loss: 0.5240 - accuracy: 0.82 - ETA: 7s - loss: 0.5237 - accuracy: 0.82 - ETA: 7s - loss: 0.5238 - accuracy: 0.82 - ETA: 7s - loss: 0.5243 - accuracy: 0.82 - ETA: 7s - loss: 0.5248 - accuracy: 0.82 - ETA: 7s - loss: 0.5251 - accuracy: 0.82 - ETA: 6s - loss: 0.5259 - accuracy: 0.82 - ETA: 6s - loss: 0.5258 - accuracy: 0.82 - ETA: 6s - loss: 0.5253 - accuracy: 0.82 - ETA: 6s - loss: 0.5256 - accuracy: 0.82 - ETA: 6s - loss: 0.5250 - accuracy: 0.82 - ETA: 6s - loss: 0.5256 - accuracy: 0.82 - ETA: 6s - loss: 0.5256 - accuracy: 0.82 - ETA: 6s - loss: 0.5263 - accuracy: 0.82 - ETA: 6s - loss: 0.5262 - accuracy: 0.82 - ETA: 6s - loss: 0.5258 - accuracy: 0.82 - ETA: 6s - loss: 0.5255 - accuracy: 0.82 - ETA: 6s - loss: 0.5246 - accuracy: 0.82 - ETA: 6s - loss: 0.5246 - accuracy: 0.82 - ETA: 6s - loss: 0.5239 - accuracy: 0.82 - ETA: 6s - loss: 0.5242 - accuracy: 0.82 - ETA: 6s - loss: 0.5240 - accuracy: 0.82 - ETA: 6s - loss: 0.5236 - accuracy: 0.82 - ETA: 6s - loss: 0.5225 - accuracy: 0.82 - ETA: 6s - loss: 0.5227 - accuracy: 0.82 - ETA: 6s - loss: 0.5234 - accuracy: 0.82 - ETA: 5s - loss: 0.5247 - accuracy: 0.82 - ETA: 5s - loss: 0.5244 - accuracy: 0.82 - ETA: 5s - loss: 0.5250 - accuracy: 0.82 - ETA: 5s - loss: 0.5249 - accuracy: 0.82 - ETA: 5s - loss: 0.5247 - accuracy: 0.82 - ETA: 5s - loss: 0.5253 - accuracy: 0.82 - ETA: 5s - loss: 0.5249 - accuracy: 0.82 - ETA: 5s - loss: 0.5250 - accuracy: 0.82 - ETA: 5s - loss: 0.5255 - accuracy: 0.82 - ETA: 5s - loss: 0.5252 - accuracy: 0.82 - ETA: 5s - loss: 0.5257 - accuracy: 0.82 - ETA: 5s - loss: 0.5253 - accuracy: 0.82 - ETA: 5s - loss: 0.5258 - accuracy: 0.82 - ETA: 5s - loss: 0.5257 - accuracy: 0.82 - ETA: 5s - loss: 0.5256 - accuracy: 0.82 - ETA: 5s - loss: 0.5254 - accuracy: 0.82 - ETA: 5s - loss: 0.5250 - accuracy: 0.82 - ETA: 5s - loss: 0.5245 - accuracy: 0.82 - ETA: 5s - loss: 0.5243 - accuracy: 0.82 - ETA: 4s - loss: 0.5241 - accuracy: 0.82 - ETA: 4s - loss: 0.5247 - accuracy: 0.82 - ETA: 4s - loss: 0.5244 - accuracy: 0.82 - ETA: 4s - loss: 0.5245 - accuracy: 0.82 - ETA: 4s - loss: 0.5244 - accuracy: 0.82 - ETA: 4s - loss: 0.5245 - accuracy: 0.82 - ETA: 4s - loss: 0.5248 - accuracy: 0.82 - ETA: 4s - loss: 0.5245 - accuracy: 0.82 - ETA: 4s - loss: 0.5244 - accuracy: 0.82 - ETA: 4s - loss: 0.5243 - accuracy: 0.82 - ETA: 4s - loss: 0.5244 - accuracy: 0.82 - ETA: 4s - loss: 0.5243 - accuracy: 0.82 - ETA: 4s - loss: 0.5238 - accuracy: 0.82 - ETA: 4s - loss: 0.5235 - accuracy: 0.82 - ETA: 4s - loss: 0.5231 - accuracy: 0.82 - ETA: 4s - loss: 0.5223 - accuracy: 0.82 - ETA: 4s - loss: 0.5222 - accuracy: 0.82 - ETA: 3s - loss: 0.5226 - accuracy: 0.82 - ETA: 3s - loss: 0.5226 - accuracy: 0.82 - ETA: 3s - loss: 0.5225 - accuracy: 0.82 - ETA: 3s - loss: 0.5222 - accuracy: 0.82 - ETA: 3s - loss: 0.5228 - accuracy: 0.82 - ETA: 3s - loss: 0.5224 - accuracy: 0.82 - ETA: 3s - loss: 0.5220 - accuracy: 0.82 - ETA: 3s - loss: 0.5218 - accuracy: 0.82 - ETA: 3s - loss: 0.5216 - accuracy: 0.82 - ETA: 3s - loss: 0.5213 - accuracy: 0.82 - ETA: 3s - loss: 0.5211 - accuracy: 0.82 - ETA: 3s - loss: 0.5209 - accuracy: 0.82 - ETA: 3s - loss: 0.5202 - accuracy: 0.82 - ETA: 3s - loss: 0.5205 - accuracy: 0.82 - ETA: 3s - loss: 0.5203 - accuracy: 0.82 - ETA: 3s - loss: 0.5200 - accuracy: 0.82 - ETA: 3s - loss: 0.5200 - accuracy: 0.82 - ETA: 3s - loss: 0.5201 - accuracy: 0.82 - ETA: 2s - loss: 0.5206 - accuracy: 0.82 - ETA: 2s - loss: 0.5210 - accuracy: 0.82 - ETA: 2s - loss: 0.5226 - accuracy: 0.82 - ETA: 2s - loss: 0.5225 - accuracy: 0.82 - ETA: 2s - loss: 0.5223 - accuracy: 0.82 - ETA: 2s - loss: 0.5224 - accuracy: 0.82 - ETA: 2s - loss: 0.5221 - accuracy: 0.82 - ETA: 2s - loss: 0.5227 - accuracy: 0.82 - ETA: 2s - loss: 0.5224 - accuracy: 0.82 - ETA: 2s - loss: 0.5222 - accuracy: 0.82 - ETA: 2s - loss: 0.5225 - accuracy: 0.82 - ETA: 2s - loss: 0.5226 - accuracy: 0.82 - ETA: 2s - loss: 0.5227 - accuracy: 0.82 - ETA: 2s - loss: 0.5227 - accuracy: 0.82 - ETA: 2s - loss: 0.5226 - accuracy: 0.82 - ETA: 2s - loss: 0.5231 - accuracy: 0.82 - ETA: 1s - loss: 0.5230 - accuracy: 0.82 - ETA: 1s - loss: 0.5232 - accuracy: 0.82 - ETA: 1s - loss: 0.5231 - accuracy: 0.82 - ETA: 1s - loss: 0.5228 - accuracy: 0.82 - ETA: 1s - loss: 0.5225 - accuracy: 0.82 - ETA: 1s - loss: 0.5215 - accuracy: 0.82 - ETA: 1s - loss: 0.5215 - accuracy: 0.82 - ETA: 1s - loss: 0.5214 - accuracy: 0.82 - ETA: 1s - loss: 0.5213 - accuracy: 0.82 - ETA: 1s - loss: 0.5210 - accuracy: 0.82 - ETA: 1s - loss: 0.5209 - accuracy: 0.82 - ETA: 1s - loss: 0.5209 - accuracy: 0.82 - ETA: 1s - loss: 0.5209 - accuracy: 0.82 - ETA: 1s - loss: 0.5211 - accuracy: 0.82 - ETA: 1s - loss: 0.5210 - accuracy: 0.82 - ETA: 1s - loss: 0.5206 - accuracy: 0.82 - ETA: 1s - loss: 0.5206 - accuracy: 0.82 - ETA: 1s - loss: 0.5206 - accuracy: 0.82 - ETA: 0s - loss: 0.5204 - accuracy: 0.82 - ETA: 0s - loss: 0.5208 - accuracy: 0.82 - ETA: 0s - loss: 0.5206 - accuracy: 0.82 - ETA: 0s - loss: 0.5210 - accuracy: 0.82 - ETA: 0s - loss: 0.5208 - accuracy: 0.82 - ETA: 0s - loss: 0.5209 - accuracy: 0.82 - ETA: 0s - loss: 0.5210 - accuracy: 0.82 - ETA: 0s - loss: 0.5205 - accuracy: 0.82 - ETA: 0s - loss: 0.5206 - accuracy: 0.82 - ETA: 0s - loss: 0.5207 - accuracy: 0.82 - ETA: 0s - loss: 0.5205 - accuracy: 0.82 - ETA: 0s - loss: 0.5205 - accuracy: 0.82 - ETA: 0s - loss: 0.5204 - accuracy: 0.82 - ETA: 0s - loss: 0.5207 - accuracy: 0.82 - ETA: 0s - loss: 0.5207 - accuracy: 0.82 - ETA: 0s - loss: 0.5204 - accuracy: 0.82 - ETA: 0s - loss: 0.5207 - accuracy: 0.82 - ETA: 0s - loss: 0.5211 - accuracy: 0.82 - 20s 11ms/step - loss: 0.5210 - accuracy: 0.8292\n",
      "Epoch 3/5\n"
     ]
    },
    {
     "name": "stdout",
     "output_type": "stream",
     "text": [
      "1103/1875 [================>.............] - ETA: 2:53 - loss: 0.6127 - accuracy: 0.71 - ETA: 39s - loss: 0.4763 - accuracy: 0.8393 - ETA: 31s - loss: 0.4186 - accuracy: 0.854 - ETA: 27s - loss: 0.3975 - accuracy: 0.861 - ETA: 24s - loss: 0.4015 - accuracy: 0.863 - ETA: 22s - loss: 0.4301 - accuracy: 0.860 - ETA: 21s - loss: 0.4318 - accuracy: 0.860 - ETA: 22s - loss: 0.4624 - accuracy: 0.853 - ETA: 20s - loss: 0.4763 - accuracy: 0.845 - ETA: 20s - loss: 0.4871 - accuracy: 0.842 - ETA: 19s - loss: 0.4949 - accuracy: 0.839 - ETA: 19s - loss: 0.4919 - accuracy: 0.839 - ETA: 18s - loss: 0.4839 - accuracy: 0.842 - ETA: 18s - loss: 0.4880 - accuracy: 0.841 - ETA: 19s - loss: 0.4859 - accuracy: 0.842 - ETA: 18s - loss: 0.4847 - accuracy: 0.846 - ETA: 18s - loss: 0.4851 - accuracy: 0.847 - ETA: 17s - loss: 0.4875 - accuracy: 0.845 - ETA: 18s - loss: 0.4867 - accuracy: 0.845 - ETA: 17s - loss: 0.4915 - accuracy: 0.841 - ETA: 18s - loss: 0.4904 - accuracy: 0.840 - ETA: 17s - loss: 0.4915 - accuracy: 0.838 - ETA: 16s - loss: 0.4928 - accuracy: 0.837 - ETA: 17s - loss: 0.4931 - accuracy: 0.837 - ETA: 16s - loss: 0.4964 - accuracy: 0.835 - ETA: 16s - loss: 0.4965 - accuracy: 0.836 - ETA: 16s - loss: 0.4987 - accuracy: 0.835 - ETA: 15s - loss: 0.4993 - accuracy: 0.835 - ETA: 16s - loss: 0.4981 - accuracy: 0.835 - ETA: 16s - loss: 0.4985 - accuracy: 0.835 - ETA: 16s - loss: 0.4955 - accuracy: 0.836 - ETA: 16s - loss: 0.4983 - accuracy: 0.835 - ETA: 16s - loss: 0.4987 - accuracy: 0.835 - ETA: 15s - loss: 0.4982 - accuracy: 0.835 - ETA: 16s - loss: 0.4971 - accuracy: 0.835 - ETA: 15s - loss: 0.4982 - accuracy: 0.835 - ETA: 15s - loss: 0.5008 - accuracy: 0.834 - ETA: 15s - loss: 0.5016 - accuracy: 0.834 - ETA: 15s - loss: 0.5024 - accuracy: 0.834 - ETA: 14s - loss: 0.5036 - accuracy: 0.834 - ETA: 14s - loss: 0.5041 - accuracy: 0.834 - ETA: 15s - loss: 0.5048 - accuracy: 0.834 - ETA: 15s - loss: 0.5047 - accuracy: 0.834 - ETA: 15s - loss: 0.5053 - accuracy: 0.833 - ETA: 14s - loss: 0.5029 - accuracy: 0.834 - ETA: 14s - loss: 0.5058 - accuracy: 0.834 - ETA: 14s - loss: 0.5058 - accuracy: 0.833 - ETA: 14s - loss: 0.5049 - accuracy: 0.834 - ETA: 14s - loss: 0.5044 - accuracy: 0.834 - ETA: 14s - loss: 0.5024 - accuracy: 0.834 - ETA: 14s - loss: 0.5030 - accuracy: 0.834 - ETA: 14s - loss: 0.5018 - accuracy: 0.834 - ETA: 14s - loss: 0.5013 - accuracy: 0.834 - ETA: 14s - loss: 0.5007 - accuracy: 0.834 - ETA: 14s - loss: 0.5007 - accuracy: 0.834 - ETA: 14s - loss: 0.5005 - accuracy: 0.834 - ETA: 14s - loss: 0.5008 - accuracy: 0.834 - ETA: 14s - loss: 0.4998 - accuracy: 0.835 - ETA: 14s - loss: 0.4982 - accuracy: 0.835 - ETA: 14s - loss: 0.4960 - accuracy: 0.836 - ETA: 14s - loss: 0.4965 - accuracy: 0.836 - ETA: 14s - loss: 0.4961 - accuracy: 0.836 - ETA: 14s - loss: 0.4965 - accuracy: 0.836 - ETA: 14s - loss: 0.4968 - accuracy: 0.835 - ETA: 14s - loss: 0.4960 - accuracy: 0.836 - ETA: 14s - loss: 0.4966 - accuracy: 0.836 - ETA: 14s - loss: 0.4977 - accuracy: 0.835 - ETA: 14s - loss: 0.4984 - accuracy: 0.835 - ETA: 14s - loss: 0.4976 - accuracy: 0.835 - ETA: 14s - loss: 0.4973 - accuracy: 0.835 - ETA: 14s - loss: 0.4997 - accuracy: 0.835 - ETA: 14s - loss: 0.4993 - accuracy: 0.835 - ETA: 14s - loss: 0.5000 - accuracy: 0.835 - ETA: 14s - loss: 0.4992 - accuracy: 0.835 - ETA: 14s - loss: 0.4992 - accuracy: 0.835 - ETA: 14s - loss: 0.5014 - accuracy: 0.835 - ETA: 14s - loss: 0.5018 - accuracy: 0.834 - ETA: 14s - loss: 0.5016 - accuracy: 0.834 - ETA: 14s - loss: 0.5021 - accuracy: 0.834 - ETA: 14s - loss: 0.5009 - accuracy: 0.835 - ETA: 14s - loss: 0.4992 - accuracy: 0.835 - ETA: 14s - loss: 0.4996 - accuracy: 0.835 - ETA: 14s - loss: 0.4993 - accuracy: 0.835 - ETA: 13s - loss: 0.4991 - accuracy: 0.835 - ETA: 13s - loss: 0.4997 - accuracy: 0.835 - ETA: 13s - loss: 0.5007 - accuracy: 0.835 - ETA: 13s - loss: 0.5014 - accuracy: 0.834 - ETA: 13s - loss: 0.5027 - accuracy: 0.834 - ETA: 13s - loss: 0.5022 - accuracy: 0.834 - ETA: 13s - loss: 0.5015 - accuracy: 0.834 - ETA: 13s - loss: 0.5015 - accuracy: 0.833 - ETA: 13s - loss: 0.5011 - accuracy: 0.834 - ETA: 13s - loss: 0.4986 - accuracy: 0.834 - ETA: 13s - loss: 0.4985 - accuracy: 0.834 - ETA: 13s - loss: 0.4990 - accuracy: 0.834 - ETA: 13s - loss: 0.4996 - accuracy: 0.834 - ETA: 13s - loss: 0.4996 - accuracy: 0.834 - ETA: 13s - loss: 0.5001 - accuracy: 0.834 - ETA: 13s - loss: 0.4992 - accuracy: 0.834 - ETA: 13s - loss: 0.5005 - accuracy: 0.833 - ETA: 13s - loss: 0.4998 - accuracy: 0.833 - ETA: 13s - loss: 0.4999 - accuracy: 0.833 - ETA: 12s - loss: 0.4996 - accuracy: 0.833 - ETA: 12s - loss: 0.4993 - accuracy: 0.833 - ETA: 12s - loss: 0.4992 - accuracy: 0.833 - ETA: 12s - loss: 0.4994 - accuracy: 0.833 - ETA: 12s - loss: 0.4986 - accuracy: 0.833 - ETA: 12s - loss: 0.5001 - accuracy: 0.833 - ETA: 12s - loss: 0.5006 - accuracy: 0.833 - ETA: 12s - loss: 0.5004 - accuracy: 0.833 - ETA: 12s - loss: 0.5014 - accuracy: 0.832 - ETA: 12s - loss: 0.5011 - accuracy: 0.833 - ETA: 12s - loss: 0.5020 - accuracy: 0.832 - ETA: 12s - loss: 0.5028 - accuracy: 0.832 - ETA: 12s - loss: 0.5027 - accuracy: 0.832 - ETA: 12s - loss: 0.5032 - accuracy: 0.832 - ETA: 12s - loss: 0.5032 - accuracy: 0.832 - ETA: 12s - loss: 0.5021 - accuracy: 0.832 - ETA: 11s - loss: 0.5026 - accuracy: 0.832 - ETA: 11s - loss: 0.5036 - accuracy: 0.832 - ETA: 11s - loss: 0.5044 - accuracy: 0.831 - ETA: 11s - loss: 0.5039 - accuracy: 0.831 - ETA: 11s - loss: 0.5039 - accuracy: 0.831 - ETA: 11s - loss: 0.5070 - accuracy: 0.831 - ETA: 11s - loss: 0.5077 - accuracy: 0.831 - ETA: 11s - loss: 0.5081 - accuracy: 0.831 - ETA: 11s - loss: 0.5078 - accuracy: 0.831 - ETA: 11s - loss: 0.5080 - accuracy: 0.831 - ETA: 11s - loss: 0.5080 - accuracy: 0.830 - ETA: 11s - loss: 0.5094 - accuracy: 0.830 - ETA: 11s - loss: 0.5097 - accuracy: 0.830 - ETA: 11s - loss: 0.5093 - accuracy: 0.830 - ETA: 11s - loss: 0.5096 - accuracy: 0.830 - ETA: 10s - loss: 0.5097 - accuracy: 0.830 - ETA: 10s - loss: 0.5098 - accuracy: 0.830 - ETA: 10s - loss: 0.5086 - accuracy: 0.830 - ETA: 10s - loss: 0.5080 - accuracy: 0.830 - ETA: 10s - loss: 0.5078 - accuracy: 0.830 - ETA: 10s - loss: 0.5082 - accuracy: 0.830 - ETA: 10s - loss: 0.5080 - accuracy: 0.830 - ETA: 10s - loss: 0.5077 - accuracy: 0.831 - ETA: 10s - loss: 0.5067 - accuracy: 0.831 - ETA: 10s - loss: 0.5064 - accuracy: 0.831 - ETA: 10s - loss: 0.5073 - accuracy: 0.831 - ETA: 10s - loss: 0.5072 - accuracy: 0.831 - ETA: 10s - loss: 0.5094 - accuracy: 0.831 - ETA: 10s - loss: 0.5095 - accuracy: 0.831 - ETA: 10s - loss: 0.5100 - accuracy: 0.830 - ETA: 10s - loss: 0.5101 - accuracy: 0.830 - ETA: 10s - loss: 0.5106 - accuracy: 0.830 - ETA: 9s - loss: 0.5091 - accuracy: 0.830 - ETA: 9s - loss: 0.5102 - accuracy: 0.83 - ETA: 9s - loss: 0.5104 - accuracy: 0.83 - ETA: 9s - loss: 0.5103 - accuracy: 0.83 - ETA: 9s - loss: 0.5098 - accuracy: 0.83 - ETA: 9s - loss: 0.5104 - accuracy: 0.83 - ETA: 9s - loss: 0.5106 - accuracy: 0.83 - ETA: 9s - loss: 0.5103 - accuracy: 0.83 - ETA: 9s - loss: 0.5102 - accuracy: 0.83 - ETA: 9s - loss: 0.5115 - accuracy: 0.83 - ETA: 9s - loss: 0.5101 - accuracy: 0.83 - ETA: 9s - loss: 0.5093 - accuracy: 0.83 - ETA: 9s - loss: 0.5093 - accuracy: 0.83 - ETA: 9s - loss: 0.5090 - accuracy: 0.83 - ETA: 9s - loss: 0.5086 - accuracy: 0.83 - ETA: 9s - loss: 0.5094 - accuracy: 0.83 - ETA: 8s - loss: 0.5085 - accuracy: 0.83 - ETA: 8s - loss: 0.5082 - accuracy: 0.83 - ETA: 8s - loss: 0.5090 - accuracy: 0.83 - ETA: 8s - loss: 0.5085 - accuracy: 0.83 - ETA: 8s - loss: 0.5086 - accuracy: 0.83 - ETA: 8s - loss: 0.5090 - accuracy: 0.83 - ETA: 8s - loss: 0.5091 - accuracy: 0.83 - ETA: 8s - loss: 0.5087 - accuracy: 0.83 - ETA: 8s - loss: 0.5086 - accuracy: 0.83 - ETA: 8s - loss: 0.5083 - accuracy: 0.83 - ETA: 8s - loss: 0.5090 - accuracy: 0.83 - ETA: 8s - loss: 0.5089 - accuracy: 0.83 - ETA: 8s - loss: 0.5088 - accuracy: 0.83 - ETA: 8s - loss: 0.5089 - accuracy: 0.83 - ETA: 8s - loss: 0.5084 - accuracy: 0.83 - ETA: 8s - loss: 0.5079 - accuracy: 0.83 - ETA: 8s - loss: 0.5087 - accuracy: 0.83 - ETA: 8s - loss: 0.5089 - accuracy: 0.83 - ETA: 8s - loss: 0.5094 - accuracy: 0.83 - ETA: 8s - loss: 0.5092 - accuracy: 0.83 - ETA: 7s - loss: 0.5090 - accuracy: 0.8306"
     ]
    },
    {
     "name": "stdout",
     "output_type": "stream",
     "text": [
      "1875/1875 [==============================] - ETA: 7s - loss: 0.5099 - accuracy: 0.83 - ETA: 7s - loss: 0.5101 - accuracy: 0.83 - ETA: 7s - loss: 0.5102 - accuracy: 0.83 - ETA: 7s - loss: 0.5098 - accuracy: 0.83 - ETA: 7s - loss: 0.5103 - accuracy: 0.83 - ETA: 7s - loss: 0.5105 - accuracy: 0.83 - ETA: 7s - loss: 0.5107 - accuracy: 0.83 - ETA: 7s - loss: 0.5108 - accuracy: 0.83 - ETA: 7s - loss: 0.5112 - accuracy: 0.83 - ETA: 7s - loss: 0.5119 - accuracy: 0.83 - ETA: 7s - loss: 0.5116 - accuracy: 0.83 - ETA: 7s - loss: 0.5115 - accuracy: 0.83 - ETA: 6s - loss: 0.5124 - accuracy: 0.83 - ETA: 6s - loss: 0.5118 - accuracy: 0.83 - ETA: 6s - loss: 0.5117 - accuracy: 0.83 - ETA: 6s - loss: 0.5114 - accuracy: 0.83 - ETA: 6s - loss: 0.5113 - accuracy: 0.83 - ETA: 6s - loss: 0.5109 - accuracy: 0.83 - ETA: 6s - loss: 0.5111 - accuracy: 0.83 - ETA: 6s - loss: 0.5114 - accuracy: 0.83 - ETA: 6s - loss: 0.5106 - accuracy: 0.83 - ETA: 6s - loss: 0.5106 - accuracy: 0.83 - ETA: 6s - loss: 0.5106 - accuracy: 0.83 - ETA: 6s - loss: 0.5107 - accuracy: 0.83 - ETA: 6s - loss: 0.5103 - accuracy: 0.83 - ETA: 6s - loss: 0.5099 - accuracy: 0.83 - ETA: 6s - loss: 0.5094 - accuracy: 0.83 - ETA: 6s - loss: 0.5086 - accuracy: 0.83 - ETA: 5s - loss: 0.5089 - accuracy: 0.83 - ETA: 5s - loss: 0.5091 - accuracy: 0.83 - ETA: 5s - loss: 0.5094 - accuracy: 0.83 - ETA: 5s - loss: 0.5093 - accuracy: 0.83 - ETA: 5s - loss: 0.5093 - accuracy: 0.83 - ETA: 5s - loss: 0.5092 - accuracy: 0.83 - ETA: 5s - loss: 0.5093 - accuracy: 0.83 - ETA: 5s - loss: 0.5090 - accuracy: 0.83 - ETA: 5s - loss: 0.5092 - accuracy: 0.83 - ETA: 5s - loss: 0.5087 - accuracy: 0.83 - ETA: 5s - loss: 0.5082 - accuracy: 0.83 - ETA: 5s - loss: 0.5084 - accuracy: 0.83 - ETA: 5s - loss: 0.5086 - accuracy: 0.83 - ETA: 5s - loss: 0.5086 - accuracy: 0.83 - ETA: 5s - loss: 0.5093 - accuracy: 0.83 - ETA: 4s - loss: 0.5086 - accuracy: 0.83 - ETA: 4s - loss: 0.5084 - accuracy: 0.83 - ETA: 4s - loss: 0.5081 - accuracy: 0.83 - ETA: 4s - loss: 0.5080 - accuracy: 0.83 - ETA: 4s - loss: 0.5083 - accuracy: 0.83 - ETA: 4s - loss: 0.5093 - accuracy: 0.83 - ETA: 4s - loss: 0.5092 - accuracy: 0.83 - ETA: 4s - loss: 0.5091 - accuracy: 0.83 - ETA: 4s - loss: 0.5087 - accuracy: 0.83 - ETA: 4s - loss: 0.5080 - accuracy: 0.83 - ETA: 4s - loss: 0.5081 - accuracy: 0.83 - ETA: 4s - loss: 0.5078 - accuracy: 0.83 - ETA: 4s - loss: 0.5076 - accuracy: 0.83 - ETA: 4s - loss: 0.5074 - accuracy: 0.83 - ETA: 4s - loss: 0.5072 - accuracy: 0.83 - ETA: 4s - loss: 0.5075 - accuracy: 0.83 - ETA: 4s - loss: 0.5076 - accuracy: 0.83 - ETA: 3s - loss: 0.5074 - accuracy: 0.83 - ETA: 3s - loss: 0.5066 - accuracy: 0.83 - ETA: 3s - loss: 0.5063 - accuracy: 0.83 - ETA: 3s - loss: 0.5058 - accuracy: 0.83 - ETA: 3s - loss: 0.5055 - accuracy: 0.83 - ETA: 3s - loss: 0.5059 - accuracy: 0.83 - ETA: 3s - loss: 0.5059 - accuracy: 0.83 - ETA: 3s - loss: 0.5055 - accuracy: 0.83 - ETA: 3s - loss: 0.5053 - accuracy: 0.83 - ETA: 3s - loss: 0.5047 - accuracy: 0.83 - ETA: 3s - loss: 0.5051 - accuracy: 0.83 - ETA: 3s - loss: 0.5051 - accuracy: 0.83 - ETA: 3s - loss: 0.5051 - accuracy: 0.83 - ETA: 3s - loss: 0.5049 - accuracy: 0.83 - ETA: 3s - loss: 0.5053 - accuracy: 0.83 - ETA: 3s - loss: 0.5053 - accuracy: 0.83 - ETA: 2s - loss: 0.5057 - accuracy: 0.83 - ETA: 2s - loss: 0.5058 - accuracy: 0.83 - ETA: 2s - loss: 0.5058 - accuracy: 0.83 - ETA: 2s - loss: 0.5062 - accuracy: 0.83 - ETA: 2s - loss: 0.5069 - accuracy: 0.83 - ETA: 2s - loss: 0.5068 - accuracy: 0.83 - ETA: 2s - loss: 0.5069 - accuracy: 0.83 - ETA: 2s - loss: 0.5072 - accuracy: 0.83 - ETA: 2s - loss: 0.5070 - accuracy: 0.83 - ETA: 2s - loss: 0.5069 - accuracy: 0.83 - ETA: 2s - loss: 0.5068 - accuracy: 0.83 - ETA: 2s - loss: 0.5065 - accuracy: 0.83 - ETA: 2s - loss: 0.5062 - accuracy: 0.83 - ETA: 2s - loss: 0.5061 - accuracy: 0.83 - ETA: 1s - loss: 0.5065 - accuracy: 0.83 - ETA: 1s - loss: 0.5067 - accuracy: 0.83 - ETA: 1s - loss: 0.5070 - accuracy: 0.83 - ETA: 1s - loss: 0.5067 - accuracy: 0.83 - ETA: 1s - loss: 0.5069 - accuracy: 0.83 - ETA: 1s - loss: 0.5066 - accuracy: 0.83 - ETA: 1s - loss: 0.5065 - accuracy: 0.83 - ETA: 1s - loss: 0.5063 - accuracy: 0.83 - ETA: 1s - loss: 0.5068 - accuracy: 0.83 - ETA: 1s - loss: 0.5071 - accuracy: 0.83 - ETA: 1s - loss: 0.5066 - accuracy: 0.83 - ETA: 1s - loss: 0.5067 - accuracy: 0.83 - ETA: 1s - loss: 0.5071 - accuracy: 0.83 - ETA: 1s - loss: 0.5071 - accuracy: 0.83 - ETA: 1s - loss: 0.5071 - accuracy: 0.83 - ETA: 0s - loss: 0.5069 - accuracy: 0.83 - ETA: 0s - loss: 0.5068 - accuracy: 0.83 - ETA: 0s - loss: 0.5071 - accuracy: 0.83 - ETA: 0s - loss: 0.5069 - accuracy: 0.83 - ETA: 0s - loss: 0.5067 - accuracy: 0.83 - ETA: 0s - loss: 0.5065 - accuracy: 0.83 - ETA: 0s - loss: 0.5069 - accuracy: 0.83 - ETA: 0s - loss: 0.5070 - accuracy: 0.83 - ETA: 0s - loss: 0.5067 - accuracy: 0.83 - ETA: 0s - loss: 0.5064 - accuracy: 0.83 - ETA: 0s - loss: 0.5061 - accuracy: 0.83 - ETA: 0s - loss: 0.5058 - accuracy: 0.83 - ETA: 0s - loss: 0.5057 - accuracy: 0.83 - 18s 10ms/step - loss: 0.5058 - accuracy: 0.8319\n",
      "Epoch 4/5\n"
     ]
    },
    {
     "name": "stdout",
     "output_type": "stream",
     "text": [
      "1095/1875 [================>.............] - ETA: 2:32 - loss: 0.6974 - accuracy: 0.81 - ETA: 35s - loss: 0.4819 - accuracy: 0.8750 - ETA: 28s - loss: 0.4547 - accuracy: 0.872 - ETA: 24s - loss: 0.4298 - accuracy: 0.869 - ETA: 21s - loss: 0.4370 - accuracy: 0.860 - ETA: 21s - loss: 0.4507 - accuracy: 0.853 - ETA: 21s - loss: 0.4459 - accuracy: 0.858 - ETA: 19s - loss: 0.4509 - accuracy: 0.856 - ETA: 21s - loss: 0.4539 - accuracy: 0.855 - ETA: 19s - loss: 0.4348 - accuracy: 0.858 - ETA: 20s - loss: 0.4472 - accuracy: 0.854 - ETA: 18s - loss: 0.4568 - accuracy: 0.848 - ETA: 20s - loss: 0.4517 - accuracy: 0.849 - ETA: 19s - loss: 0.4599 - accuracy: 0.848 - ETA: 19s - loss: 0.4584 - accuracy: 0.849 - ETA: 18s - loss: 0.4669 - accuracy: 0.845 - ETA: 17s - loss: 0.4625 - accuracy: 0.848 - ETA: 17s - loss: 0.4628 - accuracy: 0.850 - ETA: 18s - loss: 0.4576 - accuracy: 0.852 - ETA: 17s - loss: 0.4641 - accuracy: 0.850 - ETA: 18s - loss: 0.4668 - accuracy: 0.849 - ETA: 18s - loss: 0.4545 - accuracy: 0.852 - ETA: 17s - loss: 0.4661 - accuracy: 0.850 - ETA: 16s - loss: 0.4632 - accuracy: 0.849 - ETA: 17s - loss: 0.4629 - accuracy: 0.849 - ETA: 17s - loss: 0.4671 - accuracy: 0.847 - ETA: 17s - loss: 0.4671 - accuracy: 0.847 - ETA: 17s - loss: 0.4663 - accuracy: 0.845 - ETA: 17s - loss: 0.4660 - accuracy: 0.845 - ETA: 17s - loss: 0.4675 - accuracy: 0.845 - ETA: 17s - loss: 0.4682 - accuracy: 0.845 - ETA: 17s - loss: 0.4684 - accuracy: 0.845 - ETA: 17s - loss: 0.4663 - accuracy: 0.845 - ETA: 17s - loss: 0.4660 - accuracy: 0.845 - ETA: 16s - loss: 0.4629 - accuracy: 0.846 - ETA: 17s - loss: 0.4631 - accuracy: 0.846 - ETA: 16s - loss: 0.4632 - accuracy: 0.846 - ETA: 16s - loss: 0.4626 - accuracy: 0.846 - ETA: 17s - loss: 0.4649 - accuracy: 0.845 - ETA: 16s - loss: 0.4668 - accuracy: 0.844 - ETA: 17s - loss: 0.4670 - accuracy: 0.844 - ETA: 16s - loss: 0.4677 - accuracy: 0.843 - ETA: 17s - loss: 0.4681 - accuracy: 0.843 - ETA: 16s - loss: 0.4680 - accuracy: 0.843 - ETA: 16s - loss: 0.4727 - accuracy: 0.843 - ETA: 16s - loss: 0.4743 - accuracy: 0.842 - ETA: 16s - loss: 0.4758 - accuracy: 0.841 - ETA: 16s - loss: 0.4769 - accuracy: 0.840 - ETA: 16s - loss: 0.4819 - accuracy: 0.838 - ETA: 16s - loss: 0.4812 - accuracy: 0.838 - ETA: 16s - loss: 0.4819 - accuracy: 0.839 - ETA: 16s - loss: 0.4811 - accuracy: 0.839 - ETA: 16s - loss: 0.4820 - accuracy: 0.839 - ETA: 16s - loss: 0.4872 - accuracy: 0.837 - ETA: 16s - loss: 0.4869 - accuracy: 0.837 - ETA: 16s - loss: 0.4855 - accuracy: 0.838 - ETA: 16s - loss: 0.4854 - accuracy: 0.838 - ETA: 16s - loss: 0.4901 - accuracy: 0.837 - ETA: 16s - loss: 0.4909 - accuracy: 0.837 - ETA: 16s - loss: 0.4903 - accuracy: 0.837 - ETA: 16s - loss: 0.4905 - accuracy: 0.837 - ETA: 16s - loss: 0.4916 - accuracy: 0.836 - ETA: 16s - loss: 0.4914 - accuracy: 0.837 - ETA: 16s - loss: 0.4915 - accuracy: 0.837 - ETA: 16s - loss: 0.4930 - accuracy: 0.837 - ETA: 16s - loss: 0.4941 - accuracy: 0.837 - ETA: 16s - loss: 0.4975 - accuracy: 0.836 - ETA: 16s - loss: 0.4990 - accuracy: 0.836 - ETA: 16s - loss: 0.4981 - accuracy: 0.836 - ETA: 16s - loss: 0.5018 - accuracy: 0.835 - ETA: 16s - loss: 0.5018 - accuracy: 0.835 - ETA: 15s - loss: 0.4997 - accuracy: 0.835 - ETA: 15s - loss: 0.4986 - accuracy: 0.836 - ETA: 15s - loss: 0.4973 - accuracy: 0.836 - ETA: 15s - loss: 0.4976 - accuracy: 0.836 - ETA: 15s - loss: 0.4973 - accuracy: 0.836 - ETA: 15s - loss: 0.4968 - accuracy: 0.836 - ETA: 15s - loss: 0.4986 - accuracy: 0.836 - ETA: 15s - loss: 0.4996 - accuracy: 0.836 - ETA: 15s - loss: 0.4993 - accuracy: 0.836 - ETA: 15s - loss: 0.4994 - accuracy: 0.836 - ETA: 15s - loss: 0.4996 - accuracy: 0.836 - ETA: 15s - loss: 0.4980 - accuracy: 0.836 - ETA: 15s - loss: 0.4972 - accuracy: 0.837 - ETA: 15s - loss: 0.4967 - accuracy: 0.837 - ETA: 15s - loss: 0.4966 - accuracy: 0.837 - ETA: 15s - loss: 0.4989 - accuracy: 0.837 - ETA: 14s - loss: 0.4991 - accuracy: 0.837 - ETA: 14s - loss: 0.5001 - accuracy: 0.836 - ETA: 14s - loss: 0.4995 - accuracy: 0.837 - ETA: 14s - loss: 0.4999 - accuracy: 0.836 - ETA: 14s - loss: 0.5007 - accuracy: 0.836 - ETA: 14s - loss: 0.5004 - accuracy: 0.836 - ETA: 14s - loss: 0.5009 - accuracy: 0.836 - ETA: 14s - loss: 0.5009 - accuracy: 0.836 - ETA: 14s - loss: 0.5003 - accuracy: 0.836 - ETA: 14s - loss: 0.5005 - accuracy: 0.836 - ETA: 14s - loss: 0.5002 - accuracy: 0.836 - ETA: 14s - loss: 0.4993 - accuracy: 0.836 - ETA: 14s - loss: 0.4999 - accuracy: 0.836 - ETA: 14s - loss: 0.5021 - accuracy: 0.835 - ETA: 14s - loss: 0.5021 - accuracy: 0.835 - ETA: 13s - loss: 0.5016 - accuracy: 0.836 - ETA: 13s - loss: 0.5008 - accuracy: 0.836 - ETA: 13s - loss: 0.5010 - accuracy: 0.836 - ETA: 13s - loss: 0.5023 - accuracy: 0.835 - ETA: 13s - loss: 0.5033 - accuracy: 0.835 - ETA: 13s - loss: 0.5025 - accuracy: 0.835 - ETA: 13s - loss: 0.5022 - accuracy: 0.835 - ETA: 13s - loss: 0.5017 - accuracy: 0.835 - ETA: 13s - loss: 0.5018 - accuracy: 0.835 - ETA: 13s - loss: 0.5012 - accuracy: 0.835 - ETA: 13s - loss: 0.5015 - accuracy: 0.835 - ETA: 13s - loss: 0.5017 - accuracy: 0.835 - ETA: 13s - loss: 0.5011 - accuracy: 0.835 - ETA: 13s - loss: 0.5007 - accuracy: 0.835 - ETA: 13s - loss: 0.5006 - accuracy: 0.836 - ETA: 13s - loss: 0.5004 - accuracy: 0.836 - ETA: 12s - loss: 0.4997 - accuracy: 0.835 - ETA: 12s - loss: 0.4998 - accuracy: 0.836 - ETA: 12s - loss: 0.4999 - accuracy: 0.836 - ETA: 12s - loss: 0.5004 - accuracy: 0.836 - ETA: 12s - loss: 0.5011 - accuracy: 0.835 - ETA: 12s - loss: 0.5024 - accuracy: 0.835 - ETA: 12s - loss: 0.5019 - accuracy: 0.835 - ETA: 12s - loss: 0.5025 - accuracy: 0.835 - ETA: 12s - loss: 0.5017 - accuracy: 0.835 - ETA: 12s - loss: 0.5021 - accuracy: 0.835 - ETA: 12s - loss: 0.5013 - accuracy: 0.835 - ETA: 12s - loss: 0.5014 - accuracy: 0.835 - ETA: 11s - loss: 0.5020 - accuracy: 0.835 - ETA: 11s - loss: 0.5013 - accuracy: 0.835 - ETA: 11s - loss: 0.5020 - accuracy: 0.835 - ETA: 11s - loss: 0.5018 - accuracy: 0.835 - ETA: 11s - loss: 0.5016 - accuracy: 0.835 - ETA: 11s - loss: 0.5024 - accuracy: 0.835 - ETA: 11s - loss: 0.5021 - accuracy: 0.835 - ETA: 11s - loss: 0.5022 - accuracy: 0.835 - ETA: 11s - loss: 0.5024 - accuracy: 0.834 - ETA: 11s - loss: 0.5020 - accuracy: 0.834 - ETA: 11s - loss: 0.5028 - accuracy: 0.834 - ETA: 11s - loss: 0.5034 - accuracy: 0.834 - ETA: 11s - loss: 0.5031 - accuracy: 0.834 - ETA: 10s - loss: 0.5028 - accuracy: 0.834 - ETA: 10s - loss: 0.5015 - accuracy: 0.834 - ETA: 10s - loss: 0.5009 - accuracy: 0.835 - ETA: 10s - loss: 0.5012 - accuracy: 0.835 - ETA: 10s - loss: 0.5013 - accuracy: 0.835 - ETA: 10s - loss: 0.5005 - accuracy: 0.835 - ETA: 10s - loss: 0.5002 - accuracy: 0.835 - ETA: 10s - loss: 0.4996 - accuracy: 0.835 - ETA: 10s - loss: 0.4988 - accuracy: 0.835 - ETA: 10s - loss: 0.4993 - accuracy: 0.835 - ETA: 10s - loss: 0.4994 - accuracy: 0.835 - ETA: 10s - loss: 0.4983 - accuracy: 0.835 - ETA: 10s - loss: 0.4980 - accuracy: 0.836 - ETA: 10s - loss: 0.4983 - accuracy: 0.835 - ETA: 10s - loss: 0.4979 - accuracy: 0.835 - ETA: 10s - loss: 0.4980 - accuracy: 0.835 - ETA: 9s - loss: 0.4983 - accuracy: 0.835 - ETA: 9s - loss: 0.4993 - accuracy: 0.83 - ETA: 9s - loss: 0.4991 - accuracy: 0.83 - ETA: 9s - loss: 0.5008 - accuracy: 0.83 - ETA: 9s - loss: 0.5012 - accuracy: 0.83 - ETA: 9s - loss: 0.5014 - accuracy: 0.83 - ETA: 9s - loss: 0.5015 - accuracy: 0.83 - ETA: 9s - loss: 0.5012 - accuracy: 0.83 - ETA: 9s - loss: 0.5019 - accuracy: 0.83 - ETA: 9s - loss: 0.5012 - accuracy: 0.83 - ETA: 9s - loss: 0.5011 - accuracy: 0.83 - ETA: 9s - loss: 0.5015 - accuracy: 0.83 - ETA: 9s - loss: 0.5011 - accuracy: 0.83 - ETA: 9s - loss: 0.5006 - accuracy: 0.83 - ETA: 9s - loss: 0.5007 - accuracy: 0.83 - ETA: 9s - loss: 0.5006 - accuracy: 0.83 - ETA: 9s - loss: 0.5008 - accuracy: 0.83 - ETA: 9s - loss: 0.5009 - accuracy: 0.83 - ETA: 9s - loss: 0.5005 - accuracy: 0.83 - ETA: 9s - loss: 0.5006 - accuracy: 0.83 - ETA: 9s - loss: 0.5013 - accuracy: 0.83 - ETA: 8s - loss: 0.5013 - accuracy: 0.83 - ETA: 8s - loss: 0.5023 - accuracy: 0.83 - ETA: 8s - loss: 0.5021 - accuracy: 0.83 - ETA: 8s - loss: 0.5025 - accuracy: 0.83 - ETA: 8s - loss: 0.5029 - accuracy: 0.83 - ETA: 8s - loss: 0.5020 - accuracy: 0.83 - ETA: 8s - loss: 0.5018 - accuracy: 0.8338"
     ]
    },
    {
     "name": "stdout",
     "output_type": "stream",
     "text": [
      "1875/1875 [==============================] - ETA: 8s - loss: 0.5020 - accuracy: 0.83 - ETA: 8s - loss: 0.5016 - accuracy: 0.83 - ETA: 8s - loss: 0.5015 - accuracy: 0.83 - ETA: 8s - loss: 0.5015 - accuracy: 0.83 - ETA: 8s - loss: 0.5017 - accuracy: 0.83 - ETA: 8s - loss: 0.5014 - accuracy: 0.83 - ETA: 8s - loss: 0.5009 - accuracy: 0.83 - ETA: 8s - loss: 0.5008 - accuracy: 0.83 - ETA: 8s - loss: 0.5010 - accuracy: 0.83 - ETA: 8s - loss: 0.5008 - accuracy: 0.83 - ETA: 8s - loss: 0.5023 - accuracy: 0.83 - ETA: 8s - loss: 0.5020 - accuracy: 0.83 - ETA: 8s - loss: 0.5017 - accuracy: 0.83 - ETA: 8s - loss: 0.5022 - accuracy: 0.83 - ETA: 7s - loss: 0.5020 - accuracy: 0.83 - ETA: 7s - loss: 0.5019 - accuracy: 0.83 - ETA: 7s - loss: 0.5018 - accuracy: 0.83 - ETA: 7s - loss: 0.5016 - accuracy: 0.83 - ETA: 7s - loss: 0.5007 - accuracy: 0.83 - ETA: 7s - loss: 0.5012 - accuracy: 0.83 - ETA: 7s - loss: 0.5018 - accuracy: 0.83 - ETA: 7s - loss: 0.5021 - accuracy: 0.83 - ETA: 7s - loss: 0.5022 - accuracy: 0.83 - ETA: 7s - loss: 0.5021 - accuracy: 0.83 - ETA: 7s - loss: 0.5020 - accuracy: 0.83 - ETA: 7s - loss: 0.5020 - accuracy: 0.83 - ETA: 7s - loss: 0.5018 - accuracy: 0.83 - ETA: 7s - loss: 0.5020 - accuracy: 0.83 - ETA: 7s - loss: 0.5018 - accuracy: 0.83 - ETA: 7s - loss: 0.5019 - accuracy: 0.83 - ETA: 7s - loss: 0.5012 - accuracy: 0.83 - ETA: 7s - loss: 0.5009 - accuracy: 0.83 - ETA: 7s - loss: 0.5001 - accuracy: 0.83 - ETA: 6s - loss: 0.4997 - accuracy: 0.83 - ETA: 6s - loss: 0.4992 - accuracy: 0.83 - ETA: 6s - loss: 0.4994 - accuracy: 0.83 - ETA: 6s - loss: 0.4993 - accuracy: 0.83 - ETA: 6s - loss: 0.4991 - accuracy: 0.83 - ETA: 6s - loss: 0.4993 - accuracy: 0.83 - ETA: 6s - loss: 0.4995 - accuracy: 0.83 - ETA: 6s - loss: 0.4996 - accuracy: 0.83 - ETA: 6s - loss: 0.4998 - accuracy: 0.83 - ETA: 6s - loss: 0.5000 - accuracy: 0.83 - ETA: 6s - loss: 0.5000 - accuracy: 0.83 - ETA: 6s - loss: 0.4997 - accuracy: 0.83 - ETA: 6s - loss: 0.4993 - accuracy: 0.83 - ETA: 6s - loss: 0.5000 - accuracy: 0.83 - ETA: 5s - loss: 0.4998 - accuracy: 0.83 - ETA: 5s - loss: 0.5006 - accuracy: 0.83 - ETA: 5s - loss: 0.5004 - accuracy: 0.83 - ETA: 5s - loss: 0.5005 - accuracy: 0.83 - ETA: 5s - loss: 0.5003 - accuracy: 0.83 - ETA: 5s - loss: 0.5006 - accuracy: 0.83 - ETA: 5s - loss: 0.5006 - accuracy: 0.83 - ETA: 5s - loss: 0.5010 - accuracy: 0.83 - ETA: 5s - loss: 0.5006 - accuracy: 0.83 - ETA: 5s - loss: 0.5008 - accuracy: 0.83 - ETA: 5s - loss: 0.5006 - accuracy: 0.83 - ETA: 5s - loss: 0.5004 - accuracy: 0.83 - ETA: 5s - loss: 0.5004 - accuracy: 0.83 - ETA: 5s - loss: 0.5011 - accuracy: 0.83 - ETA: 5s - loss: 0.5010 - accuracy: 0.83 - ETA: 5s - loss: 0.5011 - accuracy: 0.83 - ETA: 5s - loss: 0.5011 - accuracy: 0.83 - ETA: 5s - loss: 0.5010 - accuracy: 0.83 - ETA: 4s - loss: 0.5007 - accuracy: 0.83 - ETA: 4s - loss: 0.5003 - accuracy: 0.83 - ETA: 4s - loss: 0.5002 - accuracy: 0.83 - ETA: 4s - loss: 0.5006 - accuracy: 0.83 - ETA: 4s - loss: 0.5010 - accuracy: 0.83 - ETA: 4s - loss: 0.5011 - accuracy: 0.83 - ETA: 4s - loss: 0.5019 - accuracy: 0.83 - ETA: 4s - loss: 0.5016 - accuracy: 0.83 - ETA: 4s - loss: 0.5016 - accuracy: 0.83 - ETA: 4s - loss: 0.5018 - accuracy: 0.83 - ETA: 4s - loss: 0.5016 - accuracy: 0.83 - ETA: 4s - loss: 0.5014 - accuracy: 0.83 - ETA: 4s - loss: 0.5016 - accuracy: 0.83 - ETA: 4s - loss: 0.5008 - accuracy: 0.83 - ETA: 3s - loss: 0.5003 - accuracy: 0.83 - ETA: 3s - loss: 0.5003 - accuracy: 0.83 - ETA: 3s - loss: 0.5001 - accuracy: 0.83 - ETA: 3s - loss: 0.4995 - accuracy: 0.83 - ETA: 3s - loss: 0.5000 - accuracy: 0.83 - ETA: 3s - loss: 0.5000 - accuracy: 0.83 - ETA: 3s - loss: 0.4992 - accuracy: 0.83 - ETA: 3s - loss: 0.4990 - accuracy: 0.83 - ETA: 3s - loss: 0.4987 - accuracy: 0.83 - ETA: 3s - loss: 0.4990 - accuracy: 0.83 - ETA: 3s - loss: 0.4989 - accuracy: 0.83 - ETA: 3s - loss: 0.4989 - accuracy: 0.83 - ETA: 3s - loss: 0.4984 - accuracy: 0.83 - ETA: 3s - loss: 0.4984 - accuracy: 0.83 - ETA: 3s - loss: 0.4986 - accuracy: 0.83 - ETA: 3s - loss: 0.4985 - accuracy: 0.83 - ETA: 2s - loss: 0.4982 - accuracy: 0.83 - ETA: 2s - loss: 0.4981 - accuracy: 0.83 - ETA: 2s - loss: 0.4978 - accuracy: 0.83 - ETA: 2s - loss: 0.4979 - accuracy: 0.83 - ETA: 2s - loss: 0.4976 - accuracy: 0.83 - ETA: 2s - loss: 0.4975 - accuracy: 0.83 - ETA: 2s - loss: 0.4974 - accuracy: 0.83 - ETA: 2s - loss: 0.4979 - accuracy: 0.83 - ETA: 2s - loss: 0.4980 - accuracy: 0.83 - ETA: 2s - loss: 0.4978 - accuracy: 0.83 - ETA: 2s - loss: 0.4978 - accuracy: 0.83 - ETA: 2s - loss: 0.4976 - accuracy: 0.83 - ETA: 2s - loss: 0.4979 - accuracy: 0.83 - ETA: 2s - loss: 0.4976 - accuracy: 0.83 - ETA: 2s - loss: 0.4976 - accuracy: 0.83 - ETA: 2s - loss: 0.4972 - accuracy: 0.83 - ETA: 2s - loss: 0.4973 - accuracy: 0.83 - ETA: 2s - loss: 0.4972 - accuracy: 0.83 - ETA: 2s - loss: 0.4966 - accuracy: 0.83 - ETA: 1s - loss: 0.4964 - accuracy: 0.83 - ETA: 1s - loss: 0.4967 - accuracy: 0.83 - ETA: 1s - loss: 0.4968 - accuracy: 0.83 - ETA: 1s - loss: 0.4965 - accuracy: 0.83 - ETA: 1s - loss: 0.4965 - accuracy: 0.83 - ETA: 1s - loss: 0.4972 - accuracy: 0.83 - ETA: 1s - loss: 0.4970 - accuracy: 0.83 - ETA: 1s - loss: 0.4970 - accuracy: 0.83 - ETA: 1s - loss: 0.4970 - accuracy: 0.83 - ETA: 1s - loss: 0.4970 - accuracy: 0.83 - ETA: 1s - loss: 0.4970 - accuracy: 0.83 - ETA: 1s - loss: 0.4970 - accuracy: 0.83 - ETA: 1s - loss: 0.4968 - accuracy: 0.83 - ETA: 1s - loss: 0.4966 - accuracy: 0.83 - ETA: 1s - loss: 0.4964 - accuracy: 0.83 - ETA: 1s - loss: 0.4963 - accuracy: 0.83 - ETA: 1s - loss: 0.4967 - accuracy: 0.83 - ETA: 1s - loss: 0.4964 - accuracy: 0.83 - ETA: 1s - loss: 0.4963 - accuracy: 0.83 - ETA: 0s - loss: 0.4961 - accuracy: 0.83 - ETA: 0s - loss: 0.4960 - accuracy: 0.83 - ETA: 0s - loss: 0.4959 - accuracy: 0.83 - ETA: 0s - loss: 0.4955 - accuracy: 0.83 - ETA: 0s - loss: 0.4951 - accuracy: 0.83 - ETA: 0s - loss: 0.4948 - accuracy: 0.83 - ETA: 0s - loss: 0.4948 - accuracy: 0.83 - ETA: 0s - loss: 0.4946 - accuracy: 0.83 - ETA: 0s - loss: 0.4948 - accuracy: 0.83 - ETA: 0s - loss: 0.4948 - accuracy: 0.83 - ETA: 0s - loss: 0.4948 - accuracy: 0.83 - ETA: 0s - loss: 0.4945 - accuracy: 0.83 - ETA: 0s - loss: 0.4944 - accuracy: 0.83 - ETA: 0s - loss: 0.4942 - accuracy: 0.83 - ETA: 0s - loss: 0.4943 - accuracy: 0.83 - ETA: 0s - loss: 0.4942 - accuracy: 0.83 - ETA: 0s - loss: 0.4943 - accuracy: 0.83 - ETA: 0s - loss: 0.4947 - accuracy: 0.83 - 22s 12ms/step - loss: 0.4943 - accuracy: 0.8358\n",
      "Epoch 5/5\n"
     ]
    },
    {
     "name": "stdout",
     "output_type": "stream",
     "text": [
      "1119/1875 [================>.............] - ETA: 4:12 - loss: 0.1322 - accuracy: 0.96 - ETA: 50s - loss: 0.4322 - accuracy: 0.8705 - ETA: 41s - loss: 0.4229 - accuracy: 0.872 - ETA: 30s - loss: 0.4692 - accuracy: 0.864 - ETA: 28s - loss: 0.4806 - accuracy: 0.854 - ETA: 28s - loss: 0.4830 - accuracy: 0.849 - ETA: 28s - loss: 0.4805 - accuracy: 0.849 - ETA: 30s - loss: 0.4881 - accuracy: 0.849 - ETA: 30s - loss: 0.4781 - accuracy: 0.848 - ETA: 26s - loss: 0.4706 - accuracy: 0.853 - ETA: 26s - loss: 0.4859 - accuracy: 0.847 - ETA: 24s - loss: 0.4809 - accuracy: 0.844 - ETA: 25s - loss: 0.4753 - accuracy: 0.845 - ETA: 23s - loss: 0.4665 - accuracy: 0.846 - ETA: 23s - loss: 0.4578 - accuracy: 0.847 - ETA: 24s - loss: 0.4522 - accuracy: 0.848 - ETA: 24s - loss: 0.4547 - accuracy: 0.848 - ETA: 24s - loss: 0.4558 - accuracy: 0.849 - ETA: 24s - loss: 0.4567 - accuracy: 0.847 - ETA: 23s - loss: 0.4571 - accuracy: 0.846 - ETA: 23s - loss: 0.4549 - accuracy: 0.847 - ETA: 23s - loss: 0.4582 - accuracy: 0.845 - ETA: 23s - loss: 0.4546 - accuracy: 0.846 - ETA: 23s - loss: 0.4625 - accuracy: 0.844 - ETA: 23s - loss: 0.4648 - accuracy: 0.841 - ETA: 22s - loss: 0.4699 - accuracy: 0.841 - ETA: 23s - loss: 0.4692 - accuracy: 0.841 - ETA: 22s - loss: 0.4703 - accuracy: 0.839 - ETA: 23s - loss: 0.4703 - accuracy: 0.839 - ETA: 22s - loss: 0.4691 - accuracy: 0.840 - ETA: 22s - loss: 0.4680 - accuracy: 0.841 - ETA: 22s - loss: 0.4796 - accuracy: 0.839 - ETA: 22s - loss: 0.4762 - accuracy: 0.840 - ETA: 22s - loss: 0.4758 - accuracy: 0.840 - ETA: 22s - loss: 0.4763 - accuracy: 0.840 - ETA: 21s - loss: 0.4810 - accuracy: 0.838 - ETA: 22s - loss: 0.4802 - accuracy: 0.838 - ETA: 21s - loss: 0.4803 - accuracy: 0.838 - ETA: 21s - loss: 0.4789 - accuracy: 0.838 - ETA: 21s - loss: 0.4855 - accuracy: 0.837 - ETA: 21s - loss: 0.4879 - accuracy: 0.837 - ETA: 20s - loss: 0.4890 - accuracy: 0.837 - ETA: 21s - loss: 0.4857 - accuracy: 0.838 - ETA: 20s - loss: 0.4852 - accuracy: 0.839 - ETA: 20s - loss: 0.4843 - accuracy: 0.839 - ETA: 20s - loss: 0.4824 - accuracy: 0.840 - ETA: 20s - loss: 0.4823 - accuracy: 0.840 - ETA: 19s - loss: 0.4851 - accuracy: 0.840 - ETA: 19s - loss: 0.4854 - accuracy: 0.840 - ETA: 19s - loss: 0.4863 - accuracy: 0.839 - ETA: 19s - loss: 0.4891 - accuracy: 0.839 - ETA: 19s - loss: 0.4891 - accuracy: 0.839 - ETA: 19s - loss: 0.4886 - accuracy: 0.840 - ETA: 19s - loss: 0.4901 - accuracy: 0.840 - ETA: 19s - loss: 0.4899 - accuracy: 0.840 - ETA: 19s - loss: 0.4913 - accuracy: 0.839 - ETA: 19s - loss: 0.4923 - accuracy: 0.839 - ETA: 19s - loss: 0.4894 - accuracy: 0.840 - ETA: 19s - loss: 0.4893 - accuracy: 0.840 - ETA: 18s - loss: 0.4862 - accuracy: 0.841 - ETA: 19s - loss: 0.4856 - accuracy: 0.841 - ETA: 18s - loss: 0.4880 - accuracy: 0.841 - ETA: 18s - loss: 0.4886 - accuracy: 0.841 - ETA: 18s - loss: 0.4904 - accuracy: 0.840 - ETA: 18s - loss: 0.4903 - accuracy: 0.840 - ETA: 18s - loss: 0.4897 - accuracy: 0.840 - ETA: 18s - loss: 0.4891 - accuracy: 0.841 - ETA: 18s - loss: 0.4886 - accuracy: 0.840 - ETA: 17s - loss: 0.4888 - accuracy: 0.839 - ETA: 18s - loss: 0.4884 - accuracy: 0.839 - ETA: 17s - loss: 0.4891 - accuracy: 0.839 - ETA: 17s - loss: 0.4906 - accuracy: 0.839 - ETA: 17s - loss: 0.4889 - accuracy: 0.839 - ETA: 17s - loss: 0.4898 - accuracy: 0.839 - ETA: 17s - loss: 0.4907 - accuracy: 0.838 - ETA: 17s - loss: 0.4907 - accuracy: 0.838 - ETA: 17s - loss: 0.4902 - accuracy: 0.838 - ETA: 16s - loss: 0.4890 - accuracy: 0.839 - ETA: 16s - loss: 0.4896 - accuracy: 0.838 - ETA: 16s - loss: 0.4890 - accuracy: 0.838 - ETA: 16s - loss: 0.4930 - accuracy: 0.838 - ETA: 16s - loss: 0.4932 - accuracy: 0.838 - ETA: 16s - loss: 0.4928 - accuracy: 0.838 - ETA: 16s - loss: 0.4917 - accuracy: 0.838 - ETA: 16s - loss: 0.4928 - accuracy: 0.838 - ETA: 16s - loss: 0.4933 - accuracy: 0.838 - ETA: 16s - loss: 0.4942 - accuracy: 0.837 - ETA: 16s - loss: 0.4958 - accuracy: 0.837 - ETA: 15s - loss: 0.4944 - accuracy: 0.837 - ETA: 15s - loss: 0.4928 - accuracy: 0.838 - ETA: 15s - loss: 0.4939 - accuracy: 0.838 - ETA: 15s - loss: 0.4947 - accuracy: 0.838 - ETA: 15s - loss: 0.4953 - accuracy: 0.837 - ETA: 15s - loss: 0.4950 - accuracy: 0.837 - ETA: 15s - loss: 0.4966 - accuracy: 0.837 - ETA: 15s - loss: 0.4978 - accuracy: 0.836 - ETA: 15s - loss: 0.4982 - accuracy: 0.836 - ETA: 15s - loss: 0.4974 - accuracy: 0.836 - ETA: 15s - loss: 0.4980 - accuracy: 0.836 - ETA: 15s - loss: 0.4980 - accuracy: 0.836 - ETA: 14s - loss: 0.4998 - accuracy: 0.835 - ETA: 14s - loss: 0.4999 - accuracy: 0.835 - ETA: 14s - loss: 0.4995 - accuracy: 0.835 - ETA: 14s - loss: 0.4986 - accuracy: 0.835 - ETA: 14s - loss: 0.4992 - accuracy: 0.835 - ETA: 14s - loss: 0.5001 - accuracy: 0.834 - ETA: 14s - loss: 0.4999 - accuracy: 0.834 - ETA: 14s - loss: 0.5017 - accuracy: 0.833 - ETA: 14s - loss: 0.5021 - accuracy: 0.833 - ETA: 14s - loss: 0.5008 - accuracy: 0.833 - ETA: 14s - loss: 0.5003 - accuracy: 0.834 - ETA: 13s - loss: 0.5005 - accuracy: 0.834 - ETA: 13s - loss: 0.4999 - accuracy: 0.834 - ETA: 13s - loss: 0.4995 - accuracy: 0.834 - ETA: 13s - loss: 0.5009 - accuracy: 0.834 - ETA: 13s - loss: 0.5011 - accuracy: 0.834 - ETA: 13s - loss: 0.5011 - accuracy: 0.834 - ETA: 13s - loss: 0.5011 - accuracy: 0.834 - ETA: 13s - loss: 0.5005 - accuracy: 0.834 - ETA: 13s - loss: 0.5002 - accuracy: 0.834 - ETA: 13s - loss: 0.4998 - accuracy: 0.834 - ETA: 13s - loss: 0.4985 - accuracy: 0.835 - ETA: 13s - loss: 0.4987 - accuracy: 0.835 - ETA: 12s - loss: 0.4983 - accuracy: 0.835 - ETA: 12s - loss: 0.4984 - accuracy: 0.835 - ETA: 12s - loss: 0.4983 - accuracy: 0.835 - ETA: 12s - loss: 0.4979 - accuracy: 0.835 - ETA: 12s - loss: 0.4993 - accuracy: 0.835 - ETA: 12s - loss: 0.4993 - accuracy: 0.834 - ETA: 12s - loss: 0.4984 - accuracy: 0.835 - ETA: 12s - loss: 0.4984 - accuracy: 0.835 - ETA: 12s - loss: 0.4968 - accuracy: 0.835 - ETA: 12s - loss: 0.4971 - accuracy: 0.835 - ETA: 12s - loss: 0.4971 - accuracy: 0.835 - ETA: 12s - loss: 0.4971 - accuracy: 0.835 - ETA: 12s - loss: 0.4966 - accuracy: 0.835 - ETA: 11s - loss: 0.4958 - accuracy: 0.836 - ETA: 11s - loss: 0.4965 - accuracy: 0.835 - ETA: 11s - loss: 0.4967 - accuracy: 0.835 - ETA: 11s - loss: 0.4979 - accuracy: 0.835 - ETA: 11s - loss: 0.4980 - accuracy: 0.835 - ETA: 11s - loss: 0.4982 - accuracy: 0.835 - ETA: 11s - loss: 0.4969 - accuracy: 0.835 - ETA: 11s - loss: 0.4975 - accuracy: 0.835 - ETA: 11s - loss: 0.4984 - accuracy: 0.835 - ETA: 11s - loss: 0.4989 - accuracy: 0.834 - ETA: 10s - loss: 0.4984 - accuracy: 0.834 - ETA: 10s - loss: 0.4985 - accuracy: 0.834 - ETA: 10s - loss: 0.4987 - accuracy: 0.834 - ETA: 10s - loss: 0.4991 - accuracy: 0.834 - ETA: 10s - loss: 0.4990 - accuracy: 0.834 - ETA: 10s - loss: 0.4990 - accuracy: 0.834 - ETA: 10s - loss: 0.4983 - accuracy: 0.834 - ETA: 10s - loss: 0.4977 - accuracy: 0.834 - ETA: 10s - loss: 0.4984 - accuracy: 0.834 - ETA: 10s - loss: 0.4989 - accuracy: 0.834 - ETA: 10s - loss: 0.4990 - accuracy: 0.834 - ETA: 10s - loss: 0.4989 - accuracy: 0.834 - ETA: 9s - loss: 0.4983 - accuracy: 0.834 - ETA: 9s - loss: 0.4976 - accuracy: 0.83 - ETA: 9s - loss: 0.4970 - accuracy: 0.83 - ETA: 9s - loss: 0.4968 - accuracy: 0.83 - ETA: 9s - loss: 0.4975 - accuracy: 0.83 - ETA: 9s - loss: 0.4978 - accuracy: 0.83 - ETA: 9s - loss: 0.4979 - accuracy: 0.83 - ETA: 9s - loss: 0.4980 - accuracy: 0.83 - ETA: 9s - loss: 0.4982 - accuracy: 0.83 - ETA: 9s - loss: 0.4981 - accuracy: 0.83 - ETA: 9s - loss: 0.4974 - accuracy: 0.83 - ETA: 9s - loss: 0.4974 - accuracy: 0.83 - ETA: 8s - loss: 0.4969 - accuracy: 0.83 - ETA: 8s - loss: 0.4977 - accuracy: 0.83 - ETA: 8s - loss: 0.4978 - accuracy: 0.83 - ETA: 8s - loss: 0.4973 - accuracy: 0.83 - ETA: 8s - loss: 0.4969 - accuracy: 0.83 - ETA: 8s - loss: 0.4984 - accuracy: 0.83 - ETA: 8s - loss: 0.4987 - accuracy: 0.83 - ETA: 8s - loss: 0.4987 - accuracy: 0.83 - ETA: 8s - loss: 0.4996 - accuracy: 0.83 - ETA: 8s - loss: 0.4998 - accuracy: 0.83 - ETA: 8s - loss: 0.4999 - accuracy: 0.83 - ETA: 8s - loss: 0.4993 - accuracy: 0.83 - ETA: 8s - loss: 0.4989 - accuracy: 0.83 - ETA: 7s - loss: 0.4989 - accuracy: 0.83 - ETA: 7s - loss: 0.4985 - accuracy: 0.83 - ETA: 7s - loss: 0.4983 - accuracy: 0.83 - ETA: 7s - loss: 0.4986 - accuracy: 0.8353"
     ]
    },
    {
     "name": "stdout",
     "output_type": "stream",
     "text": [
      "1875/1875 [==============================] - ETA: 7s - loss: 0.4991 - accuracy: 0.83 - ETA: 7s - loss: 0.4984 - accuracy: 0.83 - ETA: 7s - loss: 0.4983 - accuracy: 0.83 - ETA: 7s - loss: 0.4992 - accuracy: 0.83 - ETA: 7s - loss: 0.4998 - accuracy: 0.83 - ETA: 7s - loss: 0.5010 - accuracy: 0.83 - ETA: 7s - loss: 0.5013 - accuracy: 0.83 - ETA: 7s - loss: 0.5016 - accuracy: 0.83 - ETA: 7s - loss: 0.5016 - accuracy: 0.83 - ETA: 7s - loss: 0.5016 - accuracy: 0.83 - ETA: 7s - loss: 0.5006 - accuracy: 0.83 - ETA: 6s - loss: 0.5004 - accuracy: 0.83 - ETA: 6s - loss: 0.5002 - accuracy: 0.83 - ETA: 6s - loss: 0.5002 - accuracy: 0.83 - ETA: 6s - loss: 0.4998 - accuracy: 0.83 - ETA: 6s - loss: 0.4994 - accuracy: 0.83 - ETA: 6s - loss: 0.4992 - accuracy: 0.83 - ETA: 6s - loss: 0.4989 - accuracy: 0.83 - ETA: 6s - loss: 0.4991 - accuracy: 0.83 - ETA: 6s - loss: 0.4984 - accuracy: 0.83 - ETA: 6s - loss: 0.4984 - accuracy: 0.83 - ETA: 6s - loss: 0.4986 - accuracy: 0.83 - ETA: 6s - loss: 0.4988 - accuracy: 0.83 - ETA: 6s - loss: 0.4989 - accuracy: 0.83 - ETA: 6s - loss: 0.4988 - accuracy: 0.83 - ETA: 6s - loss: 0.4996 - accuracy: 0.83 - ETA: 6s - loss: 0.4993 - accuracy: 0.83 - ETA: 6s - loss: 0.4992 - accuracy: 0.83 - ETA: 6s - loss: 0.4985 - accuracy: 0.83 - ETA: 6s - loss: 0.4991 - accuracy: 0.83 - ETA: 6s - loss: 0.4990 - accuracy: 0.83 - ETA: 6s - loss: 0.4991 - accuracy: 0.83 - ETA: 5s - loss: 0.4990 - accuracy: 0.83 - ETA: 5s - loss: 0.4989 - accuracy: 0.83 - ETA: 5s - loss: 0.4990 - accuracy: 0.83 - ETA: 5s - loss: 0.4990 - accuracy: 0.83 - ETA: 5s - loss: 0.4982 - accuracy: 0.83 - ETA: 5s - loss: 0.4983 - accuracy: 0.83 - ETA: 5s - loss: 0.4979 - accuracy: 0.83 - ETA: 5s - loss: 0.4977 - accuracy: 0.83 - ETA: 5s - loss: 0.4975 - accuracy: 0.83 - ETA: 5s - loss: 0.4973 - accuracy: 0.83 - ETA: 5s - loss: 0.4975 - accuracy: 0.83 - ETA: 5s - loss: 0.4981 - accuracy: 0.83 - ETA: 5s - loss: 0.4982 - accuracy: 0.83 - ETA: 5s - loss: 0.4979 - accuracy: 0.83 - ETA: 5s - loss: 0.4971 - accuracy: 0.83 - ETA: 5s - loss: 0.4970 - accuracy: 0.83 - ETA: 5s - loss: 0.4964 - accuracy: 0.83 - ETA: 4s - loss: 0.4964 - accuracy: 0.83 - ETA: 4s - loss: 0.4963 - accuracy: 0.83 - ETA: 4s - loss: 0.4969 - accuracy: 0.83 - ETA: 4s - loss: 0.4970 - accuracy: 0.83 - ETA: 4s - loss: 0.4970 - accuracy: 0.83 - ETA: 4s - loss: 0.4973 - accuracy: 0.83 - ETA: 4s - loss: 0.4970 - accuracy: 0.83 - ETA: 4s - loss: 0.4970 - accuracy: 0.83 - ETA: 4s - loss: 0.4963 - accuracy: 0.83 - ETA: 4s - loss: 0.4963 - accuracy: 0.83 - ETA: 4s - loss: 0.4962 - accuracy: 0.83 - ETA: 4s - loss: 0.4963 - accuracy: 0.83 - ETA: 4s - loss: 0.4955 - accuracy: 0.83 - ETA: 4s - loss: 0.4953 - accuracy: 0.83 - ETA: 3s - loss: 0.4953 - accuracy: 0.83 - ETA: 3s - loss: 0.4949 - accuracy: 0.83 - ETA: 3s - loss: 0.4948 - accuracy: 0.83 - ETA: 3s - loss: 0.4945 - accuracy: 0.83 - ETA: 3s - loss: 0.4941 - accuracy: 0.83 - ETA: 3s - loss: 0.4942 - accuracy: 0.83 - ETA: 3s - loss: 0.4940 - accuracy: 0.83 - ETA: 3s - loss: 0.4940 - accuracy: 0.83 - ETA: 3s - loss: 0.4933 - accuracy: 0.83 - ETA: 3s - loss: 0.4934 - accuracy: 0.83 - ETA: 3s - loss: 0.4933 - accuracy: 0.83 - ETA: 3s - loss: 0.4935 - accuracy: 0.83 - ETA: 3s - loss: 0.4932 - accuracy: 0.83 - ETA: 3s - loss: 0.4932 - accuracy: 0.83 - ETA: 3s - loss: 0.4925 - accuracy: 0.83 - ETA: 3s - loss: 0.4922 - accuracy: 0.83 - ETA: 3s - loss: 0.4921 - accuracy: 0.83 - ETA: 2s - loss: 0.4924 - accuracy: 0.83 - ETA: 2s - loss: 0.4922 - accuracy: 0.83 - ETA: 2s - loss: 0.4926 - accuracy: 0.83 - ETA: 2s - loss: 0.4926 - accuracy: 0.83 - ETA: 2s - loss: 0.4926 - accuracy: 0.83 - ETA: 2s - loss: 0.4926 - accuracy: 0.83 - ETA: 2s - loss: 0.4924 - accuracy: 0.83 - ETA: 2s - loss: 0.4931 - accuracy: 0.83 - ETA: 2s - loss: 0.4929 - accuracy: 0.83 - ETA: 2s - loss: 0.4928 - accuracy: 0.83 - ETA: 2s - loss: 0.4928 - accuracy: 0.83 - ETA: 2s - loss: 0.4925 - accuracy: 0.83 - ETA: 2s - loss: 0.4924 - accuracy: 0.83 - ETA: 2s - loss: 0.4926 - accuracy: 0.83 - ETA: 2s - loss: 0.4932 - accuracy: 0.83 - ETA: 1s - loss: 0.4934 - accuracy: 0.83 - ETA: 1s - loss: 0.4936 - accuracy: 0.83 - ETA: 1s - loss: 0.4943 - accuracy: 0.83 - ETA: 1s - loss: 0.4944 - accuracy: 0.83 - ETA: 1s - loss: 0.4946 - accuracy: 0.83 - ETA: 1s - loss: 0.4940 - accuracy: 0.83 - ETA: 1s - loss: 0.4937 - accuracy: 0.83 - ETA: 1s - loss: 0.4938 - accuracy: 0.83 - ETA: 1s - loss: 0.4938 - accuracy: 0.83 - ETA: 1s - loss: 0.4932 - accuracy: 0.83 - ETA: 1s - loss: 0.4934 - accuracy: 0.83 - ETA: 1s - loss: 0.4936 - accuracy: 0.83 - ETA: 1s - loss: 0.4940 - accuracy: 0.83 - ETA: 0s - loss: 0.4943 - accuracy: 0.83 - ETA: 0s - loss: 0.4941 - accuracy: 0.83 - ETA: 0s - loss: 0.4942 - accuracy: 0.83 - ETA: 0s - loss: 0.4946 - accuracy: 0.83 - ETA: 0s - loss: 0.4946 - accuracy: 0.83 - ETA: 0s - loss: 0.4942 - accuracy: 0.83 - ETA: 0s - loss: 0.4938 - accuracy: 0.83 - ETA: 0s - loss: 0.4939 - accuracy: 0.83 - ETA: 0s - loss: 0.4936 - accuracy: 0.83 - ETA: 0s - loss: 0.4935 - accuracy: 0.83 - ETA: 0s - loss: 0.4932 - accuracy: 0.83 - ETA: 0s - loss: 0.4930 - accuracy: 0.83 - ETA: 0s - loss: 0.4928 - accuracy: 0.83 - 19s 10ms/step - loss: 0.4925 - accuracy: 0.8371\n"
     ]
    },
    {
     "data": {
      "text/plain": [
       "<tensorflow.python.keras.callbacks.History at 0x24f94070f28>"
      ]
     },
     "execution_count": 49,
     "metadata": {},
     "output_type": "execute_result"
    }
   ],
   "source": [
    "model.fit(train_dataset, epochs=5, steps_per_epoch=math.ceil(num_train_examples/BATCH_SIZE))"
   ]
  },
  {
   "cell_type": "markdown",
   "metadata": {},
   "source": [
    "# Evaluate accuracy"
   ]
  },
  {
   "cell_type": "code",
   "execution_count": 46,
   "metadata": {},
   "outputs": [
    {
     "name": "stdout",
     "output_type": "stream",
     "text": [
      "313/313 [==============================] - ETA: 9s - loss: 1.2765 - accuracy: 0.78 - ETA: 4s - loss: 0.5612 - accuracy: 0.82 - ETA: 3s - loss: 0.5229 - accuracy: 0.82 - ETA: 3s - loss: 0.5257 - accuracy: 0.83 - ETA: 3s - loss: 0.5127 - accuracy: 0.83 - ETA: 3s - loss: 0.5499 - accuracy: 0.82 - ETA: 3s - loss: 0.5521 - accuracy: 0.82 - ETA: 3s - loss: 0.5596 - accuracy: 0.82 - ETA: 3s - loss: 0.5515 - accuracy: 0.83 - ETA: 3s - loss: 0.5502 - accuracy: 0.82 - ETA: 3s - loss: 0.5534 - accuracy: 0.82 - ETA: 3s - loss: 0.5615 - accuracy: 0.82 - ETA: 2s - loss: 0.5562 - accuracy: 0.81 - ETA: 3s - loss: 0.5534 - accuracy: 0.81 - ETA: 2s - loss: 0.5526 - accuracy: 0.82 - ETA: 2s - loss: 0.5566 - accuracy: 0.81 - ETA: 2s - loss: 0.5619 - accuracy: 0.81 - ETA: 2s - loss: 0.5585 - accuracy: 0.81 - ETA: 2s - loss: 0.5621 - accuracy: 0.82 - ETA: 2s - loss: 0.5706 - accuracy: 0.81 - ETA: 2s - loss: 0.5734 - accuracy: 0.81 - ETA: 2s - loss: 0.5706 - accuracy: 0.81 - ETA: 2s - loss: 0.5603 - accuracy: 0.82 - ETA: 2s - loss: 0.5577 - accuracy: 0.82 - ETA: 2s - loss: 0.5597 - accuracy: 0.82 - ETA: 2s - loss: 0.5590 - accuracy: 0.82 - ETA: 2s - loss: 0.5608 - accuracy: 0.81 - ETA: 2s - loss: 0.5675 - accuracy: 0.81 - ETA: 1s - loss: 0.5640 - accuracy: 0.82 - ETA: 1s - loss: 0.5576 - accuracy: 0.82 - ETA: 1s - loss: 0.5579 - accuracy: 0.82 - ETA: 1s - loss: 0.5573 - accuracy: 0.82 - ETA: 1s - loss: 0.5544 - accuracy: 0.82 - ETA: 1s - loss: 0.5512 - accuracy: 0.82 - ETA: 1s - loss: 0.5577 - accuracy: 0.82 - ETA: 1s - loss: 0.5556 - accuracy: 0.82 - ETA: 1s - loss: 0.5562 - accuracy: 0.82 - ETA: 1s - loss: 0.5532 - accuracy: 0.82 - ETA: 1s - loss: 0.5499 - accuracy: 0.82 - ETA: 1s - loss: 0.5505 - accuracy: 0.82 - ETA: 1s - loss: 0.5523 - accuracy: 0.82 - ETA: 1s - loss: 0.5568 - accuracy: 0.82 - ETA: 1s - loss: 0.5561 - accuracy: 0.82 - ETA: 1s - loss: 0.5540 - accuracy: 0.82 - ETA: 1s - loss: 0.5550 - accuracy: 0.82 - ETA: 1s - loss: 0.5524 - accuracy: 0.82 - ETA: 1s - loss: 0.5527 - accuracy: 0.82 - ETA: 0s - loss: 0.5540 - accuracy: 0.82 - ETA: 0s - loss: 0.5529 - accuracy: 0.82 - ETA: 0s - loss: 0.5555 - accuracy: 0.82 - ETA: 0s - loss: 0.5552 - accuracy: 0.82 - ETA: 0s - loss: 0.5599 - accuracy: 0.81 - ETA: 0s - loss: 0.5651 - accuracy: 0.81 - ETA: 0s - loss: 0.5627 - accuracy: 0.81 - ETA: 0s - loss: 0.5628 - accuracy: 0.81 - ETA: 0s - loss: 0.5632 - accuracy: 0.81 - ETA: 0s - loss: 0.5614 - accuracy: 0.81 - ETA: 0s - loss: 0.5614 - accuracy: 0.81 - ETA: 0s - loss: 0.5621 - accuracy: 0.81 - ETA: 0s - loss: 0.5640 - accuracy: 0.81 - ETA: 0s - loss: 0.5650 - accuracy: 0.81 - ETA: 0s - loss: 0.5646 - accuracy: 0.81 - ETA: 0s - loss: 0.5640 - accuracy: 0.81 - ETA: 0s - loss: 0.5615 - accuracy: 0.81 - ETA: 0s - loss: 0.5621 - accuracy: 0.81 - ETA: 0s - loss: 0.5630 - accuracy: 0.81 - 4s 11ms/step - loss: 0.5626 - accuracy: 0.8176\n"
     ]
    }
   ],
   "source": [
    "test_loss, test_accuracy = model.evaluate(test_dataset, steps=math.ceil(num_test_examples/32))"
   ]
  },
  {
   "cell_type": "code",
   "execution_count": 47,
   "metadata": {},
   "outputs": [
    {
     "name": "stdout",
     "output_type": "stream",
     "text": [
      "Accuracy on test dataset: 0.8176\n"
     ]
    }
   ],
   "source": [
    "print('Accuracy on test dataset:', test_accuracy)"
   ]
  },
  {
   "cell_type": "markdown",
   "metadata": {},
   "source": [
    "# Make predictions and explore"
   ]
  },
  {
   "cell_type": "code",
   "execution_count": 48,
   "metadata": {},
   "outputs": [],
   "source": [
    "for test_images, test_labels in test_dataset.take(1):\n",
    "  test_images = test_images.numpy()\n",
    "  test_labels = test_labels.numpy()\n",
    "  predictions = model.predict(test_images)"
   ]
  },
  {
   "cell_type": "code",
   "execution_count": 25,
   "metadata": {},
   "outputs": [
    {
     "data": {
      "text/plain": [
       "(32, 10)"
      ]
     },
     "execution_count": 25,
     "metadata": {},
     "output_type": "execute_result"
    }
   ],
   "source": [
    "predictions.shape"
   ]
  },
  {
   "cell_type": "code",
   "execution_count": 26,
   "metadata": {},
   "outputs": [
    {
     "data": {
      "text/plain": [
       "array([1.1820078e-03, 1.9958286e-06, 1.7127054e-03, 8.8751217e-04,\n",
       "       4.2769767e-02, 3.2853261e-13, 9.5037991e-01, 1.5053303e-26,\n",
       "       3.0661160e-03, 2.0514650e-22], dtype=float32)"
      ]
     },
     "execution_count": 26,
     "metadata": {},
     "output_type": "execute_result"
    }
   ],
   "source": [
    "predictions[0]"
   ]
  },
  {
   "cell_type": "code",
   "execution_count": 27,
   "metadata": {},
   "outputs": [
    {
     "data": {
      "text/plain": [
       "6"
      ]
     },
     "execution_count": 27,
     "metadata": {},
     "output_type": "execute_result"
    }
   ],
   "source": [
    "np.argmax(predictions[0])"
   ]
  },
  {
   "cell_type": "code",
   "execution_count": 28,
   "metadata": {},
   "outputs": [
    {
     "data": {
      "text/plain": [
       "6"
      ]
     },
     "execution_count": 28,
     "metadata": {},
     "output_type": "execute_result"
    }
   ],
   "source": [
    "test_labels[0]"
   ]
  },
  {
   "cell_type": "code",
   "execution_count": 30,
   "metadata": {},
   "outputs": [],
   "source": [
    "def plot_image(i, predictions_array, true_labels, images):\n",
    "  predictions_array, true_label, img = predictions_array[i], true_labels[i], images[i]\n",
    "  plt.grid(False)\n",
    "  plt.xticks([])\n",
    "  plt.yticks([])\n",
    "  \n",
    "  plt.imshow(img[...,0], cmap=plt.cm.binary)\n",
    "\n",
    "  predicted_label = np.argmax(predictions_array)\n",
    "  if predicted_label == true_label:\n",
    "    color = 'blue'\n",
    "  else:\n",
    "    color = 'red'\n",
    "  \n",
    "  plt.xlabel(\"{} {:2.0f}% ({})\".format(class_names[predicted_label],\n",
    "                                100*np.max(predictions_array),\n",
    "                                class_names[true_label]),\n",
    "                                color=color)\n",
    "\n",
    "def plot_value_array(i, predictions_array, true_label):\n",
    "  predictions_array, true_label = predictions_array[i], true_label[i]\n",
    "  plt.grid(False)\n",
    "  plt.xticks([])\n",
    "  plt.yticks([])\n",
    "  thisplot = plt.bar(range(10), predictions_array, color=\"#777777\")\n",
    "  plt.ylim([0, 1]) \n",
    "  predicted_label = np.argmax(predictions_array)\n",
    " \n",
    "  thisplot[predicted_label].set_color('red')\n",
    "  thisplot[true_label].set_color('blue')"
   ]
  },
  {
   "cell_type": "code",
   "execution_count": 31,
   "metadata": {},
   "outputs": [
    {
     "data": {
      "image/png": "[encoded data removed]",
      "text/plain": [
       "<Figure size 432x216 with 2 Axes>"
      ]
     },
     "metadata": {},
     "output_type": "display_data"
    }
   ],
   "source": [
    "i = 0\n",
    "plt.figure(figsize=(6,3))\n",
    "plt.subplot(1,2,1)\n",
    "plot_image(i, predictions, test_labels, test_images)\n",
    "plt.subplot(1,2,2)\n",
    "plot_value_array(i, predictions,  test_labels)"
   ]
  },
  {
   "cell_type": "code",
   "execution_count": 32,
   "metadata": {},
   "outputs": [
    {
     "data": {
      "image/png": "[encoded data removed]",
      "text/plain": [
       "<Figure size 432x216 with 2 Axes>"
      ]
     },
     "metadata": {},
     "output_type": "display_data"
    }
   ],
   "source": [
    "i = 12\n",
    "plt.figure(figsize=(6,3))\n",
    "plt.subplot(1,2,1)\n",
    "plot_image(i, predictions, test_labels, test_images)\n",
    "plt.subplot(1,2,2)\n",
    "plot_value_array(i, predictions,  test_labels)"
   ]
  },
  {
   "cell_type": "code",
   "execution_count": 33,
   "metadata": {},
   "outputs": [
    {
     "data": {
      "image/png": "[encoded data removed]",
      "text/plain": [
       "<Figure size 864x720 with 30 Axes>"
      ]
     },
     "metadata": {},
     "output_type": "display_data"
    }
   ],
   "source": [
    "# Plot the first X test images, their predicted label, and the true label\n",
    "# Color correct predictions in blue, incorrect predictions in red\n",
    "num_rows = 5\n",
    "num_cols = 3\n",
    "num_images = num_rows*num_cols\n",
    "plt.figure(figsize=(2*2*num_cols, 2*num_rows))\n",
    "for i in range(num_images):\n",
    "  plt.subplot(num_rows, 2*num_cols, 2*i+1)\n",
    "  plot_image(i, predictions, test_labels, test_images)\n",
    "  plt.subplot(num_rows, 2*num_cols, 2*i+2)\n",
    "  plot_value_array(i, predictions, test_labels)\n"
   ]
  },
  {
   "cell_type": "code",
   "execution_count": 34,
   "metadata": {},
   "outputs": [
    {
     "name": "stdout",
     "output_type": "stream",
     "text": [
      "(28, 28, 1)\n"
     ]
    }
   ],
   "source": [
    "# Grab an image from the test dataset\n",
    "img = test_images[0]\n",
    "\n",
    "print(img.shape)"
   ]
  },
  {
   "cell_type": "code",
   "execution_count": 35,
   "metadata": {},
   "outputs": [
    {
     "name": "stdout",
     "output_type": "stream",
     "text": [
      "(1, 28, 28, 1)\n"
     ]
    }
   ],
   "source": [
    "# Add the image to a batch where it's the only member.\n",
    "img = np.array([img])\n",
    "\n",
    "print(img.shape)"
   ]
  },
  {
   "cell_type": "code",
   "execution_count": 36,
   "metadata": {},
   "outputs": [
    {
     "name": "stdout",
     "output_type": "stream",
     "text": [
      "[[1.1820056e-03 1.9958247e-06 1.7127047e-03 8.8751171e-04 4.2769767e-02\n",
      "  3.2853071e-13 9.5037991e-01 1.5053129e-26 3.0661102e-03 2.0514492e-22]]\n"
     ]
    }
   ],
   "source": [
    "predictions_single = model.predict(img)\n",
    "\n",
    "print(predictions_single)"
   ]
  },
  {
   "cell_type": "code",
   "execution_count": 50,
   "metadata": {},
   "outputs": [
    {
     "data": {
      "image/png": "[encoded data removed]",
      "text/plain": [
       "<Figure size 432x288 with 1 Axes>"
      ]
     },
     "metadata": {
      "needs_background": "light"
     },
     "output_type": "display_data"
    }
   ],
   "source": [
    "plot_value_array(0, predictions_single, test_labels)\n",
    "_ = plt.xticks(range(10), class_names, rotation=45)"
   ]
  },
  {
   "cell_type": "code",
   "execution_count": 38,
   "metadata": {},
   "outputs": [
    {
     "data": {
      "text/plain": [
       "6"
      ]
     },
     "execution_count": 38,
     "metadata": {},
     "output_type": "execute_result"
    }
   ],
   "source": [
    "np.argmax(predictions_single[0])"
   ]
  },
  {
   "cell_type": "code",
   "execution_count": null,
   "metadata": {},
   "outputs": [],
   "source": []
  }
 ],
 "metadata": {
  "kernelspec": {
   "display_name": "Python 3",
   "language": "python",
   "name": "python3"
  },
  "language_info": {
   "codemirror_mode": {
    "name": "ipython",
    "version": 3
   },
   "file_extension": ".py",
   "mimetype": "text/x-python",
   "name": "python",
   "nbconvert_exporter": "python",
   "pygments_lexer": "ipython3",
   "version": "3.6.8"
  }
 },
 "nbformat": 4,
 "nbformat_minor": 2
}
